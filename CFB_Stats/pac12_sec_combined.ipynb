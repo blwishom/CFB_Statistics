{
 "cells": [
  {
   "cell_type": "code",
   "execution_count": 49,
   "metadata": {},
   "outputs": [],
   "source": [
    "import pandas as pd\n",
    "import numpy as np\n",
    "import matplotlib.pyplot as plt\n",
    "import seaborn as sns\n",
    "import plotly.express as px\n",
    "import plotly.graph_objects as go\n",
    "import math"
   ]
  },
  {
   "cell_type": "code",
   "execution_count": 50,
   "metadata": {},
   "outputs": [],
   "source": [
    "pac12 = pd.read_csv('/home/blair/cognixia_workspace/CFB_Statistics/CFB_Stats/Pac-12_cleaned.csv')\n",
    "sec = pd.read_csv('/home/blair/cognixia_workspace/CFB_Statistics/CFB_Stats/SEC_cleaned.csv')\n",
    "\n",
    "pac12_sec = pd.concat([pac12, sec]).sort_values('Player')\n",
    "pac12_sec = pac12_sec.drop(columns=['Lg', 'YdsL'])\n",
    "pac12_sec.to_csv('Pac12_and_SEC.csv', index=False)"
   ]
  },
  {
   "cell_type": "code",
   "execution_count": 51,
   "metadata": {},
   "outputs": [
    {
     "data": {
      "text/html": [
       "<div>\n",
       "<style scoped>\n",
       "    .dataframe tbody tr th:only-of-type {\n",
       "        vertical-align: middle;\n",
       "    }\n",
       "\n",
       "    .dataframe tbody tr th {\n",
       "        vertical-align: top;\n",
       "    }\n",
       "\n",
       "    .dataframe thead th {\n",
       "        text-align: right;\n",
       "    }\n",
       "</style>\n",
       "<table border=\"1\" class=\"dataframe\">\n",
       "  <thead>\n",
       "    <tr style=\"text-align: right;\">\n",
       "      <th></th>\n",
       "      <th>Player</th>\n",
       "      <th>Team</th>\n",
       "      <th>Int</th>\n",
       "      <th>Yds</th>\n",
       "      <th>Avg</th>\n",
       "      <th>TD</th>\n",
       "      <th>Solo</th>\n",
       "      <th>Ast</th>\n",
       "      <th>Tot</th>\n",
       "      <th>Sack</th>\n",
       "      <th>Stat Type</th>\n",
       "      <th>Conference</th>\n",
       "    </tr>\n",
       "  </thead>\n",
       "  <tbody>\n",
       "    <tr>\n",
       "      <th>0</th>\n",
       "      <td>Aashari Crosswell</td>\n",
       "      <td>AZST</td>\n",
       "      <td>3</td>\n",
       "      <td>103</td>\n",
       "      <td>34.33</td>\n",
       "      <td>0</td>\n",
       "      <td>35</td>\n",
       "      <td>8</td>\n",
       "      <td>43</td>\n",
       "      <td>0.0</td>\n",
       "      <td>Defense</td>\n",
       "      <td>Pac-12</td>\n",
       "    </tr>\n",
       "    <tr>\n",
       "      <th>1</th>\n",
       "      <td>Adam Sparks</td>\n",
       "      <td>MIZZ</td>\n",
       "      <td>1</td>\n",
       "      <td>0</td>\n",
       "      <td>0.00</td>\n",
       "      <td>0</td>\n",
       "      <td>31</td>\n",
       "      <td>7</td>\n",
       "      <td>38</td>\n",
       "      <td>0.0</td>\n",
       "      <td>Defense</td>\n",
       "      <td>SEC</td>\n",
       "    </tr>\n",
       "    <tr>\n",
       "      <th>2</th>\n",
       "      <td>Adarius Pickett</td>\n",
       "      <td>UCLA</td>\n",
       "      <td>2</td>\n",
       "      <td>34</td>\n",
       "      <td>17.00</td>\n",
       "      <td>0</td>\n",
       "      <td>77</td>\n",
       "      <td>46</td>\n",
       "      <td>123</td>\n",
       "      <td>0.0</td>\n",
       "      <td>Defense</td>\n",
       "      <td>Pac-12</td>\n",
       "    </tr>\n",
       "    <tr>\n",
       "      <th>3</th>\n",
       "      <td>Ajene Harris</td>\n",
       "      <td>USC</td>\n",
       "      <td>1</td>\n",
       "      <td>6</td>\n",
       "      <td>6.00</td>\n",
       "      <td>1</td>\n",
       "      <td>34</td>\n",
       "      <td>24</td>\n",
       "      <td>58</td>\n",
       "      <td>0.0</td>\n",
       "      <td>Defense</td>\n",
       "      <td>Pac-12</td>\n",
       "    </tr>\n",
       "    <tr>\n",
       "      <th>4</th>\n",
       "      <td>Alameen Murphy</td>\n",
       "      <td>STAN</td>\n",
       "      <td>2</td>\n",
       "      <td>32</td>\n",
       "      <td>16.00</td>\n",
       "      <td>0</td>\n",
       "      <td>18</td>\n",
       "      <td>17</td>\n",
       "      <td>35</td>\n",
       "      <td>0.0</td>\n",
       "      <td>Defense</td>\n",
       "      <td>Pac-12</td>\n",
       "    </tr>\n",
       "    <tr>\n",
       "      <th>...</th>\n",
       "      <td>...</td>\n",
       "      <td>...</td>\n",
       "      <td>...</td>\n",
       "      <td>...</td>\n",
       "      <td>...</td>\n",
       "      <td>...</td>\n",
       "      <td>...</td>\n",
       "      <td>...</td>\n",
       "      <td>...</td>\n",
       "      <td>...</td>\n",
       "      <td>...</td>\n",
       "      <td>...</td>\n",
       "    </tr>\n",
       "    <tr>\n",
       "      <th>195</th>\n",
       "      <td>Vernon Dasher</td>\n",
       "      <td>MISS</td>\n",
       "      <td>1</td>\n",
       "      <td>88</td>\n",
       "      <td>88.00</td>\n",
       "      <td>1</td>\n",
       "      <td>18</td>\n",
       "      <td>18</td>\n",
       "      <td>36</td>\n",
       "      <td>0.0</td>\n",
       "      <td>Defense</td>\n",
       "      <td>SEC</td>\n",
       "    </tr>\n",
       "    <tr>\n",
       "      <th>196</th>\n",
       "      <td>Willie Gay Jr.</td>\n",
       "      <td>MSST</td>\n",
       "      <td>2</td>\n",
       "      <td>49</td>\n",
       "      <td>24.50</td>\n",
       "      <td>0</td>\n",
       "      <td>20</td>\n",
       "      <td>28</td>\n",
       "      <td>48</td>\n",
       "      <td>5.0</td>\n",
       "      <td>Defense</td>\n",
       "      <td>SEC</td>\n",
       "    </tr>\n",
       "    <tr>\n",
       "      <th>197</th>\n",
       "      <td>Willie Taylor</td>\n",
       "      <td>WSU</td>\n",
       "      <td>1</td>\n",
       "      <td>40</td>\n",
       "      <td>40.00</td>\n",
       "      <td>0</td>\n",
       "      <td>17</td>\n",
       "      <td>13</td>\n",
       "      <td>30</td>\n",
       "      <td>4.0</td>\n",
       "      <td>Defense</td>\n",
       "      <td>Pac-12</td>\n",
       "    </tr>\n",
       "    <tr>\n",
       "      <th>198</th>\n",
       "      <td>Xavier McKinney</td>\n",
       "      <td>ALA</td>\n",
       "      <td>2</td>\n",
       "      <td>23</td>\n",
       "      <td>11.50</td>\n",
       "      <td>1</td>\n",
       "      <td>44</td>\n",
       "      <td>29</td>\n",
       "      <td>73</td>\n",
       "      <td>3.0</td>\n",
       "      <td>Defense</td>\n",
       "      <td>SEC</td>\n",
       "    </tr>\n",
       "    <tr>\n",
       "      <th>199</th>\n",
       "      <td>Zedrick Woods</td>\n",
       "      <td>MISS</td>\n",
       "      <td>2</td>\n",
       "      <td>-2</td>\n",
       "      <td>-1.00</td>\n",
       "      <td>0</td>\n",
       "      <td>42</td>\n",
       "      <td>37</td>\n",
       "      <td>79</td>\n",
       "      <td>0.5</td>\n",
       "      <td>Defense</td>\n",
       "      <td>SEC</td>\n",
       "    </tr>\n",
       "  </tbody>\n",
       "</table>\n",
       "<p>200 rows × 12 columns</p>\n",
       "</div>"
      ],
      "text/plain": [
       "                Player  Team  Int  Yds    Avg  TD  Solo  Ast  Tot  Sack  \\\n",
       "0    Aashari Crosswell  AZST    3  103  34.33   0    35    8   43   0.0   \n",
       "1          Adam Sparks  MIZZ    1    0   0.00   0    31    7   38   0.0   \n",
       "2      Adarius Pickett  UCLA    2   34  17.00   0    77   46  123   0.0   \n",
       "3         Ajene Harris   USC    1    6   6.00   1    34   24   58   0.0   \n",
       "4       Alameen Murphy  STAN    2   32  16.00   0    18   17   35   0.0   \n",
       "..                 ...   ...  ...  ...    ...  ..   ...  ...  ...   ...   \n",
       "195      Vernon Dasher  MISS    1   88  88.00   1    18   18   36   0.0   \n",
       "196     Willie Gay Jr.  MSST    2   49  24.50   0    20   28   48   5.0   \n",
       "197      Willie Taylor   WSU    1   40  40.00   0    17   13   30   4.0   \n",
       "198    Xavier McKinney   ALA    2   23  11.50   1    44   29   73   3.0   \n",
       "199      Zedrick Woods  MISS    2   -2  -1.00   0    42   37   79   0.5   \n",
       "\n",
       "    Stat Type Conference  \n",
       "0     Defense     Pac-12  \n",
       "1     Defense        SEC  \n",
       "2     Defense     Pac-12  \n",
       "3     Defense     Pac-12  \n",
       "4     Defense     Pac-12  \n",
       "..        ...        ...  \n",
       "195   Defense        SEC  \n",
       "196   Defense        SEC  \n",
       "197   Defense     Pac-12  \n",
       "198   Defense        SEC  \n",
       "199   Defense        SEC  \n",
       "\n",
       "[200 rows x 12 columns]"
      ]
     },
     "execution_count": 51,
     "metadata": {},
     "output_type": "execute_result"
    }
   ],
   "source": [
    "pac12_and_sec = pd.read_csv('/home/blair/cognixia_workspace/CFB_Statistics/CFB_Stats/Pac12_and_SEC.csv')\n",
    "pac12_and_sec"
   ]
  },
  {
   "cell_type": "code",
   "execution_count": 52,
   "metadata": {},
   "outputs": [],
   "source": [
    "interceptions = pac12_and_sec.sort_values(['Int'], ascending=False).apply(lambda interceptions:interceptions)\n",
    "top_3_interceptions = interceptions[interceptions['Int'] >= 4]"
   ]
  },
  {
   "cell_type": "code",
   "execution_count": 53,
   "metadata": {},
   "outputs": [
    {
     "data": {
      "application/vnd.plotly.v1+json": {
       "config": {
        "plotlyServerURL": "https://plot.ly"
       },
       "data": [
        {
         "alignmentgroup": "True",
         "bingroup": "x",
         "histfunc": "sum",
         "hovertemplate": "Conference=Pac-12<br>Player's Name=%{x}<br>sum of Interceptions=%{y}<extra></extra>",
         "legendgroup": "Pac-12",
         "marker": {
          "color": "#636efa",
          "pattern": {
           "shape": ""
          }
         },
         "name": "Pac-12",
         "offsetgroup": "Pac-12",
         "orientation": "v",
         "showlegend": true,
         "type": "histogram",
         "x": [
          "Jaylinn Hawkins",
          "Jevon Holland",
          "Byron Murphy",
          "Ashtyn Davis",
          "Paulson Adebo",
          "Ugo Amadi",
          "Jaylon Johnson",
          "Deommodore Lenoir",
          "Chase Lucas",
          "Marcus Strong",
          "Darnay Holmes",
          "Aashari Crosswell",
          "Traveon Beck",
          "Scottie Young Jr.",
          "Jalen Thompson",
          "Evan Weaver",
          "Jordan Miller",
          "Thomas Graham Jr.",
          "Taylor Rapp",
          "Skyler Thomas",
          "Quentin Lake",
          "Nate Landman",
          "Marquise Blair",
          "Malik Antoine",
          "Colin Schooler",
          "Camryn Bynum",
          "Ben Burr-Kirven",
          "Chase Hansen",
          "Alameen Murphy",
          "Adarius Pickett",
          "Pita Tonga",
          "Nick Pickett",
          "Nick Fisher",
          "Derrion Rakestraw",
          "Merlin Robertson",
          "Nate Meadors",
          "Cam Phillips",
          "Marvell Tell III",
          "Cameron Goode",
          "Sean Barton",
          "Rick Gamboa",
          "Willie Taylor",
          "Ajene Harris",
          "Troy Young",
          "Troy Dye",
          "Ryan Newsome",
          "Thomas Booker",
          "Terrell Burgess",
          "Shemar Smith",
          "Shawn Wilson",
          "Shannon Forman",
          "Javelin Guidry",
          "Jarrius Wallace",
          "Darrien Molton",
          "Jahad Woods",
          "Isaiah Langley",
          "Corrion Ballard",
          "Hauati Pututau",
          "Greg Gaines",
          "Dasmond Tautalatasi",
          "Frank Buncom",
          "Francis Bernard",
          "Evan Worthington",
          "Deion Singleton",
          "Elijah Hicks",
          "Elijah Gates",
          "Drew Lewis",
          "Dante Wigley",
          "Jordan McMillan",
          "Josh Drayden",
          "Kedron Williams",
          "Justin Hollins",
          "Keisean Lucier-South",
          "Kobe Williams",
          "John McCartan",
          "Cody Barton",
          "Krys Barnes",
          "Julian Blackmon",
          "Jordan Kunaszyk"
         ],
         "xaxis": "x",
         "y": [
          6,
          5,
          4,
          4,
          4,
          3,
          3,
          3,
          3,
          3,
          3,
          3,
          3,
          3,
          2,
          2,
          2,
          2,
          2,
          2,
          2,
          2,
          2,
          2,
          2,
          2,
          2,
          2,
          2,
          2,
          1,
          1,
          1,
          1,
          1,
          1,
          1,
          1,
          1,
          1,
          1,
          1,
          1,
          1,
          1,
          1,
          1,
          1,
          1,
          1,
          1,
          1,
          1,
          1,
          1,
          1,
          1,
          1,
          1,
          1,
          1,
          1,
          1,
          1,
          1,
          1,
          1,
          1,
          1,
          1,
          1,
          1,
          1,
          1,
          1,
          1,
          1,
          1,
          1
         ],
         "yaxis": "y"
        },
        {
         "alignmentgroup": "True",
         "hovertemplate": "Conference=Pac-12<br>Player's Name=%{x}<extra></extra>",
         "legendgroup": "Pac-12",
         "marker": {
          "color": "#636efa"
         },
         "name": "Pac-12",
         "offsetgroup": "Pac-12",
         "scalegroup": "x",
         "showlegend": false,
         "type": "violin",
         "x": [
          "Jaylinn Hawkins",
          "Jevon Holland",
          "Byron Murphy",
          "Ashtyn Davis",
          "Paulson Adebo",
          "Ugo Amadi",
          "Jaylon Johnson",
          "Deommodore Lenoir",
          "Chase Lucas",
          "Marcus Strong",
          "Darnay Holmes",
          "Aashari Crosswell",
          "Traveon Beck",
          "Scottie Young Jr.",
          "Jalen Thompson",
          "Evan Weaver",
          "Jordan Miller",
          "Thomas Graham Jr.",
          "Taylor Rapp",
          "Skyler Thomas",
          "Quentin Lake",
          "Nate Landman",
          "Marquise Blair",
          "Malik Antoine",
          "Colin Schooler",
          "Camryn Bynum",
          "Ben Burr-Kirven",
          "Chase Hansen",
          "Alameen Murphy",
          "Adarius Pickett",
          "Pita Tonga",
          "Nick Pickett",
          "Nick Fisher",
          "Derrion Rakestraw",
          "Merlin Robertson",
          "Nate Meadors",
          "Cam Phillips",
          "Marvell Tell III",
          "Cameron Goode",
          "Sean Barton",
          "Rick Gamboa",
          "Willie Taylor",
          "Ajene Harris",
          "Troy Young",
          "Troy Dye",
          "Ryan Newsome",
          "Thomas Booker",
          "Terrell Burgess",
          "Shemar Smith",
          "Shawn Wilson",
          "Shannon Forman",
          "Javelin Guidry",
          "Jarrius Wallace",
          "Darrien Molton",
          "Jahad Woods",
          "Isaiah Langley",
          "Corrion Ballard",
          "Hauati Pututau",
          "Greg Gaines",
          "Dasmond Tautalatasi",
          "Frank Buncom",
          "Francis Bernard",
          "Evan Worthington",
          "Deion Singleton",
          "Elijah Hicks",
          "Elijah Gates",
          "Drew Lewis",
          "Dante Wigley",
          "Jordan McMillan",
          "Josh Drayden",
          "Kedron Williams",
          "Justin Hollins",
          "Keisean Lucier-South",
          "Kobe Williams",
          "John McCartan",
          "Cody Barton",
          "Krys Barnes",
          "Julian Blackmon",
          "Jordan Kunaszyk"
         ],
         "xaxis": "x2",
         "yaxis": "y2"
        },
        {
         "alignmentgroup": "True",
         "bingroup": "x",
         "histfunc": "sum",
         "hovertemplate": "Conference=SEC<br>Player's Name=%{x}<br>sum of Interceptions=%{y}<extra></extra>",
         "legendgroup": "SEC",
         "marker": {
          "color": "#EF553B",
          "pattern": {
           "shape": ""
          }
         },
         "name": "SEC",
         "offsetgroup": "SEC",
         "orientation": "v",
         "showlegend": true,
         "type": "histogram",
         "x": [
          "Grant Delpit",
          "Chauncey Gardner-Johnson",
          "Joejuan Williams",
          "Cam Hilton",
          "John Battle",
          "Darius West",
          "Frank Coppet",
          "Bryce Thompson",
          "Rashad Fenton",
          "Ryan Pulley",
          "Saivion Smith",
          "DeMarkus Acy",
          "Greedy Williams",
          "J.R. Reed",
          "Jamel Dean",
          "Javaris Davis",
          "Dre Greenlaw",
          "Jeremiah Dinson",
          "Erroll Thompson",
          "Mack Wilson",
          "Johnathan Abram",
          "Xavier McKinney",
          "Willie Gay Jr.",
          "Tae Crowder",
          "Shyheim Carter",
          "Mike Edwards",
          "Marquill Osborne",
          "Donovan Stiner",
          "Kendarius Webster",
          "Donovan Wilson",
          "Zedrick Woods",
          "Deionte Thompson",
          "Brad Stewart",
          "Deandre Baker",
          "Cameron Dantzler",
          "C.J. Morgan",
          "Christian Holmes",
          "C.J. Henderson",
          "Daniel Thomas",
          "C.J. Moore",
          "Patrick Surtain II",
          "Randall Haynie",
          "Noah Igbinoghene",
          "Michael Divinity Jr.",
          "Richard LeCounte III",
          "Maurice Smitherman",
          "Charles Oliver",
          "Derrick Baity",
          "Louis Vecchio",
          "Lonnie Johnson",
          "Leon O'Neal Jr.",
          "Brian Cole II",
          "Todd Harris Jr.",
          "Vernon Dasher",
          "Ventrell Miller",
          "Tyrique McGhee",
          "Tyrell Ajian",
          "Tyrel Dodson",
          "Trey Dean III",
          "Trevon Diggs",
          "Allan George",
          "Anfernee Jennings",
          "Terez Hall",
          "Stephen Adegoke",
          "Smoke Monday",
          "Big Cat Bryant",
          "Shy Tuttle",
          "Sherrod Greene",
          "Ladarius Wiley",
          "Larry Pryor",
          "Luke Ancrum",
          "Kyle Phillips",
          "Israel Mukuamu",
          "Dare Odeyingbo",
          "Jamyest Williams",
          "Jamin Davis",
          "Jamien Sherwood",
          "Darrell Williams",
          "Jacob Phillips",
          "JaCoby Stevens",
          "Darrin Kirkland Jr.",
          "DeShawn Capers-Smith",
          "Ed Paris",
          "John Huggins",
          "Jonathan Kongbo",
          "Kary Vincent Jr.",
          "Jordan Griffin",
          "Christian Tutt",
          "Keidron Smith",
          "Adam Sparks",
          "Kristian Fulton"
         ],
         "xaxis": "x",
         "y": [
          5,
          4,
          4,
          3,
          3,
          3,
          3,
          3,
          3,
          3,
          3,
          3,
          2,
          2,
          2,
          2,
          2,
          2,
          2,
          2,
          2,
          2,
          2,
          2,
          2,
          2,
          2,
          2,
          2,
          2,
          2,
          2,
          2,
          2,
          2,
          2,
          2,
          2,
          2,
          1,
          1,
          1,
          1,
          1,
          1,
          1,
          1,
          1,
          1,
          1,
          1,
          1,
          1,
          1,
          1,
          1,
          1,
          1,
          1,
          1,
          1,
          1,
          1,
          1,
          1,
          1,
          1,
          1,
          1,
          1,
          1,
          1,
          1,
          1,
          1,
          1,
          1,
          1,
          1,
          1,
          1,
          1,
          1,
          1,
          1,
          1,
          1,
          1,
          1,
          1,
          1
         ],
         "yaxis": "y"
        },
        {
         "alignmentgroup": "True",
         "hovertemplate": "Conference=SEC<br>Player's Name=%{x}<extra></extra>",
         "legendgroup": "SEC",
         "marker": {
          "color": "#EF553B"
         },
         "name": "SEC",
         "offsetgroup": "SEC",
         "scalegroup": "x",
         "showlegend": false,
         "type": "violin",
         "x": [
          "Grant Delpit",
          "Chauncey Gardner-Johnson",
          "Joejuan Williams",
          "Cam Hilton",
          "John Battle",
          "Darius West",
          "Frank Coppet",
          "Bryce Thompson",
          "Rashad Fenton",
          "Ryan Pulley",
          "Saivion Smith",
          "DeMarkus Acy",
          "Greedy Williams",
          "J.R. Reed",
          "Jamel Dean",
          "Javaris Davis",
          "Dre Greenlaw",
          "Jeremiah Dinson",
          "Erroll Thompson",
          "Mack Wilson",
          "Johnathan Abram",
          "Xavier McKinney",
          "Willie Gay Jr.",
          "Tae Crowder",
          "Shyheim Carter",
          "Mike Edwards",
          "Marquill Osborne",
          "Donovan Stiner",
          "Kendarius Webster",
          "Donovan Wilson",
          "Zedrick Woods",
          "Deionte Thompson",
          "Brad Stewart",
          "Deandre Baker",
          "Cameron Dantzler",
          "C.J. Morgan",
          "Christian Holmes",
          "C.J. Henderson",
          "Daniel Thomas",
          "C.J. Moore",
          "Patrick Surtain II",
          "Randall Haynie",
          "Noah Igbinoghene",
          "Michael Divinity Jr.",
          "Richard LeCounte III",
          "Maurice Smitherman",
          "Charles Oliver",
          "Derrick Baity",
          "Louis Vecchio",
          "Lonnie Johnson",
          "Leon O'Neal Jr.",
          "Brian Cole II",
          "Todd Harris Jr.",
          "Vernon Dasher",
          "Ventrell Miller",
          "Tyrique McGhee",
          "Tyrell Ajian",
          "Tyrel Dodson",
          "Trey Dean III",
          "Trevon Diggs",
          "Allan George",
          "Anfernee Jennings",
          "Terez Hall",
          "Stephen Adegoke",
          "Smoke Monday",
          "Big Cat Bryant",
          "Shy Tuttle",
          "Sherrod Greene",
          "Ladarius Wiley",
          "Larry Pryor",
          "Luke Ancrum",
          "Kyle Phillips",
          "Israel Mukuamu",
          "Dare Odeyingbo",
          "Jamyest Williams",
          "Jamin Davis",
          "Jamien Sherwood",
          "Darrell Williams",
          "Jacob Phillips",
          "JaCoby Stevens",
          "Darrin Kirkland Jr.",
          "DeShawn Capers-Smith",
          "Ed Paris",
          "John Huggins",
          "Jonathan Kongbo",
          "Kary Vincent Jr.",
          "Jordan Griffin",
          "Christian Tutt",
          "Keidron Smith",
          "Adam Sparks",
          "Kristian Fulton"
         ],
         "xaxis": "x2",
         "yaxis": "y2"
        }
       ],
       "layout": {
        "autosize": true,
        "barmode": "relative",
        "font": {
         "color": "black",
         "size": 12
        },
        "height": 550,
        "legend": {
         "title": {
          "text": "Conference"
         },
         "tracegroupgap": 0
        },
        "template": {
         "data": {
          "bar": [
           {
            "error_x": {
             "color": "#2a3f5f"
            },
            "error_y": {
             "color": "#2a3f5f"
            },
            "marker": {
             "line": {
              "color": "#E5ECF6",
              "width": 0.5
             },
             "pattern": {
              "fillmode": "overlay",
              "size": 10,
              "solidity": 0.2
             }
            },
            "type": "bar"
           }
          ],
          "barpolar": [
           {
            "marker": {
             "line": {
              "color": "#E5ECF6",
              "width": 0.5
             },
             "pattern": {
              "fillmode": "overlay",
              "size": 10,
              "solidity": 0.2
             }
            },
            "type": "barpolar"
           }
          ],
          "carpet": [
           {
            "aaxis": {
             "endlinecolor": "#2a3f5f",
             "gridcolor": "white",
             "linecolor": "white",
             "minorgridcolor": "white",
             "startlinecolor": "#2a3f5f"
            },
            "baxis": {
             "endlinecolor": "#2a3f5f",
             "gridcolor": "white",
             "linecolor": "white",
             "minorgridcolor": "white",
             "startlinecolor": "#2a3f5f"
            },
            "type": "carpet"
           }
          ],
          "choropleth": [
           {
            "colorbar": {
             "outlinewidth": 0,
             "ticks": ""
            },
            "type": "choropleth"
           }
          ],
          "contour": [
           {
            "colorbar": {
             "outlinewidth": 0,
             "ticks": ""
            },
            "colorscale": [
             [
              0,
              "#0d0887"
             ],
             [
              0.1111111111111111,
              "#46039f"
             ],
             [
              0.2222222222222222,
              "#7201a8"
             ],
             [
              0.3333333333333333,
              "#9c179e"
             ],
             [
              0.4444444444444444,
              "#bd3786"
             ],
             [
              0.5555555555555556,
              "#d8576b"
             ],
             [
              0.6666666666666666,
              "#ed7953"
             ],
             [
              0.7777777777777778,
              "#fb9f3a"
             ],
             [
              0.8888888888888888,
              "#fdca26"
             ],
             [
              1,
              "#f0f921"
             ]
            ],
            "type": "contour"
           }
          ],
          "contourcarpet": [
           {
            "colorbar": {
             "outlinewidth": 0,
             "ticks": ""
            },
            "type": "contourcarpet"
           }
          ],
          "heatmap": [
           {
            "colorbar": {
             "outlinewidth": 0,
             "ticks": ""
            },
            "colorscale": [
             [
              0,
              "#0d0887"
             ],
             [
              0.1111111111111111,
              "#46039f"
             ],
             [
              0.2222222222222222,
              "#7201a8"
             ],
             [
              0.3333333333333333,
              "#9c179e"
             ],
             [
              0.4444444444444444,
              "#bd3786"
             ],
             [
              0.5555555555555556,
              "#d8576b"
             ],
             [
              0.6666666666666666,
              "#ed7953"
             ],
             [
              0.7777777777777778,
              "#fb9f3a"
             ],
             [
              0.8888888888888888,
              "#fdca26"
             ],
             [
              1,
              "#f0f921"
             ]
            ],
            "type": "heatmap"
           }
          ],
          "heatmapgl": [
           {
            "colorbar": {
             "outlinewidth": 0,
             "ticks": ""
            },
            "colorscale": [
             [
              0,
              "#0d0887"
             ],
             [
              0.1111111111111111,
              "#46039f"
             ],
             [
              0.2222222222222222,
              "#7201a8"
             ],
             [
              0.3333333333333333,
              "#9c179e"
             ],
             [
              0.4444444444444444,
              "#bd3786"
             ],
             [
              0.5555555555555556,
              "#d8576b"
             ],
             [
              0.6666666666666666,
              "#ed7953"
             ],
             [
              0.7777777777777778,
              "#fb9f3a"
             ],
             [
              0.8888888888888888,
              "#fdca26"
             ],
             [
              1,
              "#f0f921"
             ]
            ],
            "type": "heatmapgl"
           }
          ],
          "histogram": [
           {
            "marker": {
             "pattern": {
              "fillmode": "overlay",
              "size": 10,
              "solidity": 0.2
             }
            },
            "type": "histogram"
           }
          ],
          "histogram2d": [
           {
            "colorbar": {
             "outlinewidth": 0,
             "ticks": ""
            },
            "colorscale": [
             [
              0,
              "#0d0887"
             ],
             [
              0.1111111111111111,
              "#46039f"
             ],
             [
              0.2222222222222222,
              "#7201a8"
             ],
             [
              0.3333333333333333,
              "#9c179e"
             ],
             [
              0.4444444444444444,
              "#bd3786"
             ],
             [
              0.5555555555555556,
              "#d8576b"
             ],
             [
              0.6666666666666666,
              "#ed7953"
             ],
             [
              0.7777777777777778,
              "#fb9f3a"
             ],
             [
              0.8888888888888888,
              "#fdca26"
             ],
             [
              1,
              "#f0f921"
             ]
            ],
            "type": "histogram2d"
           }
          ],
          "histogram2dcontour": [
           {
            "colorbar": {
             "outlinewidth": 0,
             "ticks": ""
            },
            "colorscale": [
             [
              0,
              "#0d0887"
             ],
             [
              0.1111111111111111,
              "#46039f"
             ],
             [
              0.2222222222222222,
              "#7201a8"
             ],
             [
              0.3333333333333333,
              "#9c179e"
             ],
             [
              0.4444444444444444,
              "#bd3786"
             ],
             [
              0.5555555555555556,
              "#d8576b"
             ],
             [
              0.6666666666666666,
              "#ed7953"
             ],
             [
              0.7777777777777778,
              "#fb9f3a"
             ],
             [
              0.8888888888888888,
              "#fdca26"
             ],
             [
              1,
              "#f0f921"
             ]
            ],
            "type": "histogram2dcontour"
           }
          ],
          "mesh3d": [
           {
            "colorbar": {
             "outlinewidth": 0,
             "ticks": ""
            },
            "type": "mesh3d"
           }
          ],
          "parcoords": [
           {
            "line": {
             "colorbar": {
              "outlinewidth": 0,
              "ticks": ""
             }
            },
            "type": "parcoords"
           }
          ],
          "pie": [
           {
            "automargin": true,
            "type": "pie"
           }
          ],
          "scatter": [
           {
            "fillpattern": {
             "fillmode": "overlay",
             "size": 10,
             "solidity": 0.2
            },
            "type": "scatter"
           }
          ],
          "scatter3d": [
           {
            "line": {
             "colorbar": {
              "outlinewidth": 0,
              "ticks": ""
             }
            },
            "marker": {
             "colorbar": {
              "outlinewidth": 0,
              "ticks": ""
             }
            },
            "type": "scatter3d"
           }
          ],
          "scattercarpet": [
           {
            "marker": {
             "colorbar": {
              "outlinewidth": 0,
              "ticks": ""
             }
            },
            "type": "scattercarpet"
           }
          ],
          "scattergeo": [
           {
            "marker": {
             "colorbar": {
              "outlinewidth": 0,
              "ticks": ""
             }
            },
            "type": "scattergeo"
           }
          ],
          "scattergl": [
           {
            "marker": {
             "colorbar": {
              "outlinewidth": 0,
              "ticks": ""
             }
            },
            "type": "scattergl"
           }
          ],
          "scattermapbox": [
           {
            "marker": {
             "colorbar": {
              "outlinewidth": 0,
              "ticks": ""
             }
            },
            "type": "scattermapbox"
           }
          ],
          "scatterpolar": [
           {
            "marker": {
             "colorbar": {
              "outlinewidth": 0,
              "ticks": ""
             }
            },
            "type": "scatterpolar"
           }
          ],
          "scatterpolargl": [
           {
            "marker": {
             "colorbar": {
              "outlinewidth": 0,
              "ticks": ""
             }
            },
            "type": "scatterpolargl"
           }
          ],
          "scatterternary": [
           {
            "marker": {
             "colorbar": {
              "outlinewidth": 0,
              "ticks": ""
             }
            },
            "type": "scatterternary"
           }
          ],
          "surface": [
           {
            "colorbar": {
             "outlinewidth": 0,
             "ticks": ""
            },
            "colorscale": [
             [
              0,
              "#0d0887"
             ],
             [
              0.1111111111111111,
              "#46039f"
             ],
             [
              0.2222222222222222,
              "#7201a8"
             ],
             [
              0.3333333333333333,
              "#9c179e"
             ],
             [
              0.4444444444444444,
              "#bd3786"
             ],
             [
              0.5555555555555556,
              "#d8576b"
             ],
             [
              0.6666666666666666,
              "#ed7953"
             ],
             [
              0.7777777777777778,
              "#fb9f3a"
             ],
             [
              0.8888888888888888,
              "#fdca26"
             ],
             [
              1,
              "#f0f921"
             ]
            ],
            "type": "surface"
           }
          ],
          "table": [
           {
            "cells": {
             "fill": {
              "color": "#EBF0F8"
             },
             "line": {
              "color": "white"
             }
            },
            "header": {
             "fill": {
              "color": "#C8D4E3"
             },
             "line": {
              "color": "white"
             }
            },
            "type": "table"
           }
          ]
         },
         "layout": {
          "annotationdefaults": {
           "arrowcolor": "#2a3f5f",
           "arrowhead": 0,
           "arrowwidth": 1
          },
          "autotypenumbers": "strict",
          "coloraxis": {
           "colorbar": {
            "outlinewidth": 0,
            "ticks": ""
           }
          },
          "colorscale": {
           "diverging": [
            [
             0,
             "#8e0152"
            ],
            [
             0.1,
             "#c51b7d"
            ],
            [
             0.2,
             "#de77ae"
            ],
            [
             0.3,
             "#f1b6da"
            ],
            [
             0.4,
             "#fde0ef"
            ],
            [
             0.5,
             "#f7f7f7"
            ],
            [
             0.6,
             "#e6f5d0"
            ],
            [
             0.7,
             "#b8e186"
            ],
            [
             0.8,
             "#7fbc41"
            ],
            [
             0.9,
             "#4d9221"
            ],
            [
             1,
             "#276419"
            ]
           ],
           "sequential": [
            [
             0,
             "#0d0887"
            ],
            [
             0.1111111111111111,
             "#46039f"
            ],
            [
             0.2222222222222222,
             "#7201a8"
            ],
            [
             0.3333333333333333,
             "#9c179e"
            ],
            [
             0.4444444444444444,
             "#bd3786"
            ],
            [
             0.5555555555555556,
             "#d8576b"
            ],
            [
             0.6666666666666666,
             "#ed7953"
            ],
            [
             0.7777777777777778,
             "#fb9f3a"
            ],
            [
             0.8888888888888888,
             "#fdca26"
            ],
            [
             1,
             "#f0f921"
            ]
           ],
           "sequentialminus": [
            [
             0,
             "#0d0887"
            ],
            [
             0.1111111111111111,
             "#46039f"
            ],
            [
             0.2222222222222222,
             "#7201a8"
            ],
            [
             0.3333333333333333,
             "#9c179e"
            ],
            [
             0.4444444444444444,
             "#bd3786"
            ],
            [
             0.5555555555555556,
             "#d8576b"
            ],
            [
             0.6666666666666666,
             "#ed7953"
            ],
            [
             0.7777777777777778,
             "#fb9f3a"
            ],
            [
             0.8888888888888888,
             "#fdca26"
            ],
            [
             1,
             "#f0f921"
            ]
           ]
          },
          "colorway": [
           "#636efa",
           "#EF553B",
           "#00cc96",
           "#ab63fa",
           "#FFA15A",
           "#19d3f3",
           "#FF6692",
           "#B6E880",
           "#FF97FF",
           "#FECB52"
          ],
          "font": {
           "color": "#2a3f5f"
          },
          "geo": {
           "bgcolor": "white",
           "lakecolor": "white",
           "landcolor": "#E5ECF6",
           "showlakes": true,
           "showland": true,
           "subunitcolor": "white"
          },
          "hoverlabel": {
           "align": "left"
          },
          "hovermode": "closest",
          "mapbox": {
           "style": "light"
          },
          "paper_bgcolor": "white",
          "plot_bgcolor": "#E5ECF6",
          "polar": {
           "angularaxis": {
            "gridcolor": "white",
            "linecolor": "white",
            "ticks": ""
           },
           "bgcolor": "#E5ECF6",
           "radialaxis": {
            "gridcolor": "white",
            "linecolor": "white",
            "ticks": ""
           }
          },
          "scene": {
           "xaxis": {
            "backgroundcolor": "#E5ECF6",
            "gridcolor": "white",
            "gridwidth": 2,
            "linecolor": "white",
            "showbackground": true,
            "ticks": "",
            "zerolinecolor": "white"
           },
           "yaxis": {
            "backgroundcolor": "#E5ECF6",
            "gridcolor": "white",
            "gridwidth": 2,
            "linecolor": "white",
            "showbackground": true,
            "ticks": "",
            "zerolinecolor": "white"
           },
           "zaxis": {
            "backgroundcolor": "#E5ECF6",
            "gridcolor": "white",
            "gridwidth": 2,
            "linecolor": "white",
            "showbackground": true,
            "ticks": "",
            "zerolinecolor": "white"
           }
          },
          "shapedefaults": {
           "line": {
            "color": "#2a3f5f"
           }
          },
          "ternary": {
           "aaxis": {
            "gridcolor": "white",
            "linecolor": "white",
            "ticks": ""
           },
           "baxis": {
            "gridcolor": "white",
            "linecolor": "white",
            "ticks": ""
           },
           "bgcolor": "#E5ECF6",
           "caxis": {
            "gridcolor": "white",
            "linecolor": "white",
            "ticks": ""
           }
          },
          "title": {
           "x": 0.05
          },
          "xaxis": {
           "automargin": true,
           "gridcolor": "white",
           "linecolor": "white",
           "ticks": "",
           "title": {
            "standoff": 15
           },
           "zerolinecolor": "white",
           "zerolinewidth": 2
          },
          "yaxis": {
           "automargin": true,
           "gridcolor": "white",
           "linecolor": "white",
           "ticks": "",
           "title": {
            "standoff": 15
           },
           "zerolinecolor": "white",
           "zerolinewidth": 2
          }
         }
        },
        "title": {
         "font": {
          "size": 35
         },
         "text": "All Players With Interceptions",
         "x": 0.5
        },
        "xaxis": {
         "anchor": "y",
         "domain": [
          0,
          1
         ],
         "title": {
          "font": {
           "color": "black",
           "size": 25
          },
          "standoff": 10,
          "text": "Player's Name"
         }
        },
        "xaxis2": {
         "anchor": "y2",
         "domain": [
          0,
          1
         ],
         "matches": "x",
         "showgrid": true,
         "showticklabels": false
        },
        "yaxis": {
         "anchor": "x",
         "domain": [
          0,
          0.7326
         ],
         "title": {
          "font": {
           "color": "black",
           "size": 25
          },
          "standoff": 10,
          "text": "Interceptions"
         }
        },
        "yaxis2": {
         "anchor": "x2",
         "domain": [
          0.7426,
          1
         ],
         "matches": "y2",
         "showgrid": false,
         "showline": false,
         "showticklabels": false,
         "ticks": ""
        }
       }
      },
      "text/html": [
       "<div>                            <div id=\"575247d8-fb23-46cd-a80e-10a9dd803a01\" class=\"plotly-graph-div\" style=\"height:550px; width:100%;\"></div>            <script type=\"text/javascript\">                require([\"plotly\"], function(Plotly) {                    window.PLOTLYENV=window.PLOTLYENV || {};                                    if (document.getElementById(\"575247d8-fb23-46cd-a80e-10a9dd803a01\")) {                    Plotly.newPlot(                        \"575247d8-fb23-46cd-a80e-10a9dd803a01\",                        [{\"alignmentgroup\":\"True\",\"bingroup\":\"x\",\"histfunc\":\"sum\",\"hovertemplate\":\"Conference=Pac-12\\u003cbr\\u003ePlayer's Name=%{x}\\u003cbr\\u003esum of Interceptions=%{y}\\u003cextra\\u003e\\u003c\\u002fextra\\u003e\",\"legendgroup\":\"Pac-12\",\"marker\":{\"color\":\"#636efa\",\"pattern\":{\"shape\":\"\"}},\"name\":\"Pac-12\",\"offsetgroup\":\"Pac-12\",\"orientation\":\"v\",\"showlegend\":true,\"x\":[\"Jaylinn Hawkins\",\"Jevon Holland\",\"Byron Murphy\",\"Ashtyn Davis\",\"Paulson Adebo\",\"Ugo Amadi\",\"Jaylon Johnson\",\"Deommodore Lenoir\",\"Chase Lucas\",\"Marcus Strong\",\"Darnay Holmes\",\"Aashari Crosswell\",\"Traveon Beck\",\"Scottie Young Jr.\",\"Jalen Thompson\",\"Evan Weaver\",\"Jordan Miller\",\"Thomas Graham Jr.\",\"Taylor Rapp\",\"Skyler Thomas\",\"Quentin Lake\",\"Nate Landman\",\"Marquise Blair\",\"Malik Antoine\",\"Colin Schooler\",\"Camryn Bynum\",\"Ben Burr-Kirven\",\"Chase Hansen\",\"Alameen Murphy\",\"Adarius Pickett\",\"Pita Tonga\",\"Nick Pickett\",\"Nick Fisher\",\"Derrion Rakestraw\",\"Merlin Robertson\",\"Nate Meadors\",\"Cam Phillips\",\"Marvell Tell III\",\"Cameron Goode\",\"Sean Barton\",\"Rick Gamboa\",\"Willie Taylor\",\"Ajene Harris\",\"Troy Young\",\"Troy Dye\",\"Ryan Newsome\",\"Thomas Booker\",\"Terrell Burgess\",\"Shemar Smith\",\"Shawn Wilson\",\"Shannon Forman\",\"Javelin Guidry\",\"Jarrius Wallace\",\"Darrien Molton\",\"Jahad Woods\",\"Isaiah Langley\",\"Corrion Ballard\",\"Hauati Pututau\",\"Greg Gaines\",\"Dasmond Tautalatasi\",\"Frank Buncom\",\"Francis Bernard\",\"Evan Worthington\",\"Deion Singleton\",\"Elijah Hicks\",\"Elijah Gates\",\"Drew Lewis\",\"Dante Wigley\",\"Jordan McMillan\",\"Josh Drayden\",\"Kedron Williams\",\"Justin Hollins\",\"Keisean Lucier-South\",\"Kobe Williams\",\"John McCartan\",\"Cody Barton\",\"Krys Barnes\",\"Julian Blackmon\",\"Jordan Kunaszyk\"],\"xaxis\":\"x\",\"y\":[6,5,4,4,4,3,3,3,3,3,3,3,3,3,2,2,2,2,2,2,2,2,2,2,2,2,2,2,2,2,1,1,1,1,1,1,1,1,1,1,1,1,1,1,1,1,1,1,1,1,1,1,1,1,1,1,1,1,1,1,1,1,1,1,1,1,1,1,1,1,1,1,1,1,1,1,1,1,1],\"yaxis\":\"y\",\"type\":\"histogram\"},{\"alignmentgroup\":\"True\",\"hovertemplate\":\"Conference=Pac-12\\u003cbr\\u003ePlayer's Name=%{x}\\u003cextra\\u003e\\u003c\\u002fextra\\u003e\",\"legendgroup\":\"Pac-12\",\"marker\":{\"color\":\"#636efa\"},\"name\":\"Pac-12\",\"offsetgroup\":\"Pac-12\",\"scalegroup\":\"x\",\"showlegend\":false,\"x\":[\"Jaylinn Hawkins\",\"Jevon Holland\",\"Byron Murphy\",\"Ashtyn Davis\",\"Paulson Adebo\",\"Ugo Amadi\",\"Jaylon Johnson\",\"Deommodore Lenoir\",\"Chase Lucas\",\"Marcus Strong\",\"Darnay Holmes\",\"Aashari Crosswell\",\"Traveon Beck\",\"Scottie Young Jr.\",\"Jalen Thompson\",\"Evan Weaver\",\"Jordan Miller\",\"Thomas Graham Jr.\",\"Taylor Rapp\",\"Skyler Thomas\",\"Quentin Lake\",\"Nate Landman\",\"Marquise Blair\",\"Malik Antoine\",\"Colin Schooler\",\"Camryn Bynum\",\"Ben Burr-Kirven\",\"Chase Hansen\",\"Alameen Murphy\",\"Adarius Pickett\",\"Pita Tonga\",\"Nick Pickett\",\"Nick Fisher\",\"Derrion Rakestraw\",\"Merlin Robertson\",\"Nate Meadors\",\"Cam Phillips\",\"Marvell Tell III\",\"Cameron Goode\",\"Sean Barton\",\"Rick Gamboa\",\"Willie Taylor\",\"Ajene Harris\",\"Troy Young\",\"Troy Dye\",\"Ryan Newsome\",\"Thomas Booker\",\"Terrell Burgess\",\"Shemar Smith\",\"Shawn Wilson\",\"Shannon Forman\",\"Javelin Guidry\",\"Jarrius Wallace\",\"Darrien Molton\",\"Jahad Woods\",\"Isaiah Langley\",\"Corrion Ballard\",\"Hauati Pututau\",\"Greg Gaines\",\"Dasmond Tautalatasi\",\"Frank Buncom\",\"Francis Bernard\",\"Evan Worthington\",\"Deion Singleton\",\"Elijah Hicks\",\"Elijah Gates\",\"Drew Lewis\",\"Dante Wigley\",\"Jordan McMillan\",\"Josh Drayden\",\"Kedron Williams\",\"Justin Hollins\",\"Keisean Lucier-South\",\"Kobe Williams\",\"John McCartan\",\"Cody Barton\",\"Krys Barnes\",\"Julian Blackmon\",\"Jordan Kunaszyk\"],\"xaxis\":\"x2\",\"yaxis\":\"y2\",\"type\":\"violin\"},{\"alignmentgroup\":\"True\",\"bingroup\":\"x\",\"histfunc\":\"sum\",\"hovertemplate\":\"Conference=SEC\\u003cbr\\u003ePlayer's Name=%{x}\\u003cbr\\u003esum of Interceptions=%{y}\\u003cextra\\u003e\\u003c\\u002fextra\\u003e\",\"legendgroup\":\"SEC\",\"marker\":{\"color\":\"#EF553B\",\"pattern\":{\"shape\":\"\"}},\"name\":\"SEC\",\"offsetgroup\":\"SEC\",\"orientation\":\"v\",\"showlegend\":true,\"x\":[\"Grant Delpit\",\"Chauncey Gardner-Johnson\",\"Joejuan Williams\",\"Cam Hilton\",\"John Battle\",\"Darius West\",\"Frank Coppet\",\"Bryce Thompson\",\"Rashad Fenton\",\"Ryan Pulley\",\"Saivion Smith\",\"DeMarkus Acy\",\"Greedy Williams\",\"J.R. Reed\",\"Jamel Dean\",\"Javaris Davis\",\"Dre Greenlaw\",\"Jeremiah Dinson\",\"Erroll Thompson\",\"Mack Wilson\",\"Johnathan Abram\",\"Xavier McKinney\",\"Willie Gay Jr.\",\"Tae Crowder\",\"Shyheim Carter\",\"Mike Edwards\",\"Marquill Osborne\",\"Donovan Stiner\",\"Kendarius Webster\",\"Donovan Wilson\",\"Zedrick Woods\",\"Deionte Thompson\",\"Brad Stewart\",\"Deandre Baker\",\"Cameron Dantzler\",\"C.J. Morgan\",\"Christian Holmes\",\"C.J. Henderson\",\"Daniel Thomas\",\"C.J. Moore\",\"Patrick Surtain II\",\"Randall Haynie\",\"Noah Igbinoghene\",\"Michael Divinity Jr.\",\"Richard LeCounte III\",\"Maurice Smitherman\",\"Charles Oliver\",\"Derrick Baity\",\"Louis Vecchio\",\"Lonnie Johnson\",\"Leon O'Neal Jr.\",\"Brian Cole II\",\"Todd Harris Jr.\",\"Vernon Dasher\",\"Ventrell Miller\",\"Tyrique McGhee\",\"Tyrell Ajian\",\"Tyrel Dodson\",\"Trey Dean III\",\"Trevon Diggs\",\"Allan George\",\"Anfernee Jennings\",\"Terez Hall\",\"Stephen Adegoke\",\"Smoke Monday\",\"Big Cat Bryant\",\"Shy Tuttle\",\"Sherrod Greene\",\"Ladarius Wiley\",\"Larry Pryor\",\"Luke Ancrum\",\"Kyle Phillips\",\"Israel Mukuamu\",\"Dare Odeyingbo\",\"Jamyest Williams\",\"Jamin Davis\",\"Jamien Sherwood\",\"Darrell Williams\",\"Jacob Phillips\",\"JaCoby Stevens\",\"Darrin Kirkland Jr.\",\"DeShawn Capers-Smith\",\"Ed Paris\",\"John Huggins\",\"Jonathan Kongbo\",\"Kary Vincent Jr.\",\"Jordan Griffin\",\"Christian Tutt\",\"Keidron Smith\",\"Adam Sparks\",\"Kristian Fulton\"],\"xaxis\":\"x\",\"y\":[5,4,4,3,3,3,3,3,3,3,3,3,2,2,2,2,2,2,2,2,2,2,2,2,2,2,2,2,2,2,2,2,2,2,2,2,2,2,2,1,1,1,1,1,1,1,1,1,1,1,1,1,1,1,1,1,1,1,1,1,1,1,1,1,1,1,1,1,1,1,1,1,1,1,1,1,1,1,1,1,1,1,1,1,1,1,1,1,1,1,1],\"yaxis\":\"y\",\"type\":\"histogram\"},{\"alignmentgroup\":\"True\",\"hovertemplate\":\"Conference=SEC\\u003cbr\\u003ePlayer's Name=%{x}\\u003cextra\\u003e\\u003c\\u002fextra\\u003e\",\"legendgroup\":\"SEC\",\"marker\":{\"color\":\"#EF553B\"},\"name\":\"SEC\",\"offsetgroup\":\"SEC\",\"scalegroup\":\"x\",\"showlegend\":false,\"x\":[\"Grant Delpit\",\"Chauncey Gardner-Johnson\",\"Joejuan Williams\",\"Cam Hilton\",\"John Battle\",\"Darius West\",\"Frank Coppet\",\"Bryce Thompson\",\"Rashad Fenton\",\"Ryan Pulley\",\"Saivion Smith\",\"DeMarkus Acy\",\"Greedy Williams\",\"J.R. Reed\",\"Jamel Dean\",\"Javaris Davis\",\"Dre Greenlaw\",\"Jeremiah Dinson\",\"Erroll Thompson\",\"Mack Wilson\",\"Johnathan Abram\",\"Xavier McKinney\",\"Willie Gay Jr.\",\"Tae Crowder\",\"Shyheim Carter\",\"Mike Edwards\",\"Marquill Osborne\",\"Donovan Stiner\",\"Kendarius Webster\",\"Donovan Wilson\",\"Zedrick Woods\",\"Deionte Thompson\",\"Brad Stewart\",\"Deandre Baker\",\"Cameron Dantzler\",\"C.J. Morgan\",\"Christian Holmes\",\"C.J. Henderson\",\"Daniel Thomas\",\"C.J. Moore\",\"Patrick Surtain II\",\"Randall Haynie\",\"Noah Igbinoghene\",\"Michael Divinity Jr.\",\"Richard LeCounte III\",\"Maurice Smitherman\",\"Charles Oliver\",\"Derrick Baity\",\"Louis Vecchio\",\"Lonnie Johnson\",\"Leon O'Neal Jr.\",\"Brian Cole II\",\"Todd Harris Jr.\",\"Vernon Dasher\",\"Ventrell Miller\",\"Tyrique McGhee\",\"Tyrell Ajian\",\"Tyrel Dodson\",\"Trey Dean III\",\"Trevon Diggs\",\"Allan George\",\"Anfernee Jennings\",\"Terez Hall\",\"Stephen Adegoke\",\"Smoke Monday\",\"Big Cat Bryant\",\"Shy Tuttle\",\"Sherrod Greene\",\"Ladarius Wiley\",\"Larry Pryor\",\"Luke Ancrum\",\"Kyle Phillips\",\"Israel Mukuamu\",\"Dare Odeyingbo\",\"Jamyest Williams\",\"Jamin Davis\",\"Jamien Sherwood\",\"Darrell Williams\",\"Jacob Phillips\",\"JaCoby Stevens\",\"Darrin Kirkland Jr.\",\"DeShawn Capers-Smith\",\"Ed Paris\",\"John Huggins\",\"Jonathan Kongbo\",\"Kary Vincent Jr.\",\"Jordan Griffin\",\"Christian Tutt\",\"Keidron Smith\",\"Adam Sparks\",\"Kristian Fulton\"],\"xaxis\":\"x2\",\"yaxis\":\"y2\",\"type\":\"violin\"}],                        {\"template\":{\"data\":{\"histogram2dcontour\":[{\"type\":\"histogram2dcontour\",\"colorbar\":{\"outlinewidth\":0,\"ticks\":\"\"},\"colorscale\":[[0.0,\"#0d0887\"],[0.1111111111111111,\"#46039f\"],[0.2222222222222222,\"#7201a8\"],[0.3333333333333333,\"#9c179e\"],[0.4444444444444444,\"#bd3786\"],[0.5555555555555556,\"#d8576b\"],[0.6666666666666666,\"#ed7953\"],[0.7777777777777778,\"#fb9f3a\"],[0.8888888888888888,\"#fdca26\"],[1.0,\"#f0f921\"]]}],\"choropleth\":[{\"type\":\"choropleth\",\"colorbar\":{\"outlinewidth\":0,\"ticks\":\"\"}}],\"histogram2d\":[{\"type\":\"histogram2d\",\"colorbar\":{\"outlinewidth\":0,\"ticks\":\"\"},\"colorscale\":[[0.0,\"#0d0887\"],[0.1111111111111111,\"#46039f\"],[0.2222222222222222,\"#7201a8\"],[0.3333333333333333,\"#9c179e\"],[0.4444444444444444,\"#bd3786\"],[0.5555555555555556,\"#d8576b\"],[0.6666666666666666,\"#ed7953\"],[0.7777777777777778,\"#fb9f3a\"],[0.8888888888888888,\"#fdca26\"],[1.0,\"#f0f921\"]]}],\"heatmap\":[{\"type\":\"heatmap\",\"colorbar\":{\"outlinewidth\":0,\"ticks\":\"\"},\"colorscale\":[[0.0,\"#0d0887\"],[0.1111111111111111,\"#46039f\"],[0.2222222222222222,\"#7201a8\"],[0.3333333333333333,\"#9c179e\"],[0.4444444444444444,\"#bd3786\"],[0.5555555555555556,\"#d8576b\"],[0.6666666666666666,\"#ed7953\"],[0.7777777777777778,\"#fb9f3a\"],[0.8888888888888888,\"#fdca26\"],[1.0,\"#f0f921\"]]}],\"heatmapgl\":[{\"type\":\"heatmapgl\",\"colorbar\":{\"outlinewidth\":0,\"ticks\":\"\"},\"colorscale\":[[0.0,\"#0d0887\"],[0.1111111111111111,\"#46039f\"],[0.2222222222222222,\"#7201a8\"],[0.3333333333333333,\"#9c179e\"],[0.4444444444444444,\"#bd3786\"],[0.5555555555555556,\"#d8576b\"],[0.6666666666666666,\"#ed7953\"],[0.7777777777777778,\"#fb9f3a\"],[0.8888888888888888,\"#fdca26\"],[1.0,\"#f0f921\"]]}],\"contourcarpet\":[{\"type\":\"contourcarpet\",\"colorbar\":{\"outlinewidth\":0,\"ticks\":\"\"}}],\"contour\":[{\"type\":\"contour\",\"colorbar\":{\"outlinewidth\":0,\"ticks\":\"\"},\"colorscale\":[[0.0,\"#0d0887\"],[0.1111111111111111,\"#46039f\"],[0.2222222222222222,\"#7201a8\"],[0.3333333333333333,\"#9c179e\"],[0.4444444444444444,\"#bd3786\"],[0.5555555555555556,\"#d8576b\"],[0.6666666666666666,\"#ed7953\"],[0.7777777777777778,\"#fb9f3a\"],[0.8888888888888888,\"#fdca26\"],[1.0,\"#f0f921\"]]}],\"surface\":[{\"type\":\"surface\",\"colorbar\":{\"outlinewidth\":0,\"ticks\":\"\"},\"colorscale\":[[0.0,\"#0d0887\"],[0.1111111111111111,\"#46039f\"],[0.2222222222222222,\"#7201a8\"],[0.3333333333333333,\"#9c179e\"],[0.4444444444444444,\"#bd3786\"],[0.5555555555555556,\"#d8576b\"],[0.6666666666666666,\"#ed7953\"],[0.7777777777777778,\"#fb9f3a\"],[0.8888888888888888,\"#fdca26\"],[1.0,\"#f0f921\"]]}],\"mesh3d\":[{\"type\":\"mesh3d\",\"colorbar\":{\"outlinewidth\":0,\"ticks\":\"\"}}],\"scatter\":[{\"fillpattern\":{\"fillmode\":\"overlay\",\"size\":10,\"solidity\":0.2},\"type\":\"scatter\"}],\"parcoords\":[{\"type\":\"parcoords\",\"line\":{\"colorbar\":{\"outlinewidth\":0,\"ticks\":\"\"}}}],\"scatterpolargl\":[{\"type\":\"scatterpolargl\",\"marker\":{\"colorbar\":{\"outlinewidth\":0,\"ticks\":\"\"}}}],\"bar\":[{\"error_x\":{\"color\":\"#2a3f5f\"},\"error_y\":{\"color\":\"#2a3f5f\"},\"marker\":{\"line\":{\"color\":\"#E5ECF6\",\"width\":0.5},\"pattern\":{\"fillmode\":\"overlay\",\"size\":10,\"solidity\":0.2}},\"type\":\"bar\"}],\"scattergeo\":[{\"type\":\"scattergeo\",\"marker\":{\"colorbar\":{\"outlinewidth\":0,\"ticks\":\"\"}}}],\"scatterpolar\":[{\"type\":\"scatterpolar\",\"marker\":{\"colorbar\":{\"outlinewidth\":0,\"ticks\":\"\"}}}],\"histogram\":[{\"marker\":{\"pattern\":{\"fillmode\":\"overlay\",\"size\":10,\"solidity\":0.2}},\"type\":\"histogram\"}],\"scattergl\":[{\"type\":\"scattergl\",\"marker\":{\"colorbar\":{\"outlinewidth\":0,\"ticks\":\"\"}}}],\"scatter3d\":[{\"type\":\"scatter3d\",\"line\":{\"colorbar\":{\"outlinewidth\":0,\"ticks\":\"\"}},\"marker\":{\"colorbar\":{\"outlinewidth\":0,\"ticks\":\"\"}}}],\"scattermapbox\":[{\"type\":\"scattermapbox\",\"marker\":{\"colorbar\":{\"outlinewidth\":0,\"ticks\":\"\"}}}],\"scatterternary\":[{\"type\":\"scatterternary\",\"marker\":{\"colorbar\":{\"outlinewidth\":0,\"ticks\":\"\"}}}],\"scattercarpet\":[{\"type\":\"scattercarpet\",\"marker\":{\"colorbar\":{\"outlinewidth\":0,\"ticks\":\"\"}}}],\"carpet\":[{\"aaxis\":{\"endlinecolor\":\"#2a3f5f\",\"gridcolor\":\"white\",\"linecolor\":\"white\",\"minorgridcolor\":\"white\",\"startlinecolor\":\"#2a3f5f\"},\"baxis\":{\"endlinecolor\":\"#2a3f5f\",\"gridcolor\":\"white\",\"linecolor\":\"white\",\"minorgridcolor\":\"white\",\"startlinecolor\":\"#2a3f5f\"},\"type\":\"carpet\"}],\"table\":[{\"cells\":{\"fill\":{\"color\":\"#EBF0F8\"},\"line\":{\"color\":\"white\"}},\"header\":{\"fill\":{\"color\":\"#C8D4E3\"},\"line\":{\"color\":\"white\"}},\"type\":\"table\"}],\"barpolar\":[{\"marker\":{\"line\":{\"color\":\"#E5ECF6\",\"width\":0.5},\"pattern\":{\"fillmode\":\"overlay\",\"size\":10,\"solidity\":0.2}},\"type\":\"barpolar\"}],\"pie\":[{\"automargin\":true,\"type\":\"pie\"}]},\"layout\":{\"autotypenumbers\":\"strict\",\"colorway\":[\"#636efa\",\"#EF553B\",\"#00cc96\",\"#ab63fa\",\"#FFA15A\",\"#19d3f3\",\"#FF6692\",\"#B6E880\",\"#FF97FF\",\"#FECB52\"],\"font\":{\"color\":\"#2a3f5f\"},\"hovermode\":\"closest\",\"hoverlabel\":{\"align\":\"left\"},\"paper_bgcolor\":\"white\",\"plot_bgcolor\":\"#E5ECF6\",\"polar\":{\"bgcolor\":\"#E5ECF6\",\"angularaxis\":{\"gridcolor\":\"white\",\"linecolor\":\"white\",\"ticks\":\"\"},\"radialaxis\":{\"gridcolor\":\"white\",\"linecolor\":\"white\",\"ticks\":\"\"}},\"ternary\":{\"bgcolor\":\"#E5ECF6\",\"aaxis\":{\"gridcolor\":\"white\",\"linecolor\":\"white\",\"ticks\":\"\"},\"baxis\":{\"gridcolor\":\"white\",\"linecolor\":\"white\",\"ticks\":\"\"},\"caxis\":{\"gridcolor\":\"white\",\"linecolor\":\"white\",\"ticks\":\"\"}},\"coloraxis\":{\"colorbar\":{\"outlinewidth\":0,\"ticks\":\"\"}},\"colorscale\":{\"sequential\":[[0.0,\"#0d0887\"],[0.1111111111111111,\"#46039f\"],[0.2222222222222222,\"#7201a8\"],[0.3333333333333333,\"#9c179e\"],[0.4444444444444444,\"#bd3786\"],[0.5555555555555556,\"#d8576b\"],[0.6666666666666666,\"#ed7953\"],[0.7777777777777778,\"#fb9f3a\"],[0.8888888888888888,\"#fdca26\"],[1.0,\"#f0f921\"]],\"sequentialminus\":[[0.0,\"#0d0887\"],[0.1111111111111111,\"#46039f\"],[0.2222222222222222,\"#7201a8\"],[0.3333333333333333,\"#9c179e\"],[0.4444444444444444,\"#bd3786\"],[0.5555555555555556,\"#d8576b\"],[0.6666666666666666,\"#ed7953\"],[0.7777777777777778,\"#fb9f3a\"],[0.8888888888888888,\"#fdca26\"],[1.0,\"#f0f921\"]],\"diverging\":[[0,\"#8e0152\"],[0.1,\"#c51b7d\"],[0.2,\"#de77ae\"],[0.3,\"#f1b6da\"],[0.4,\"#fde0ef\"],[0.5,\"#f7f7f7\"],[0.6,\"#e6f5d0\"],[0.7,\"#b8e186\"],[0.8,\"#7fbc41\"],[0.9,\"#4d9221\"],[1,\"#276419\"]]},\"xaxis\":{\"gridcolor\":\"white\",\"linecolor\":\"white\",\"ticks\":\"\",\"title\":{\"standoff\":15},\"zerolinecolor\":\"white\",\"automargin\":true,\"zerolinewidth\":2},\"yaxis\":{\"gridcolor\":\"white\",\"linecolor\":\"white\",\"ticks\":\"\",\"title\":{\"standoff\":15},\"zerolinecolor\":\"white\",\"automargin\":true,\"zerolinewidth\":2},\"scene\":{\"xaxis\":{\"backgroundcolor\":\"#E5ECF6\",\"gridcolor\":\"white\",\"linecolor\":\"white\",\"showbackground\":true,\"ticks\":\"\",\"zerolinecolor\":\"white\",\"gridwidth\":2},\"yaxis\":{\"backgroundcolor\":\"#E5ECF6\",\"gridcolor\":\"white\",\"linecolor\":\"white\",\"showbackground\":true,\"ticks\":\"\",\"zerolinecolor\":\"white\",\"gridwidth\":2},\"zaxis\":{\"backgroundcolor\":\"#E5ECF6\",\"gridcolor\":\"white\",\"linecolor\":\"white\",\"showbackground\":true,\"ticks\":\"\",\"zerolinecolor\":\"white\",\"gridwidth\":2}},\"shapedefaults\":{\"line\":{\"color\":\"#2a3f5f\"}},\"annotationdefaults\":{\"arrowcolor\":\"#2a3f5f\",\"arrowhead\":0,\"arrowwidth\":1},\"geo\":{\"bgcolor\":\"white\",\"landcolor\":\"#E5ECF6\",\"subunitcolor\":\"white\",\"showland\":true,\"showlakes\":true,\"lakecolor\":\"white\"},\"title\":{\"x\":0.05},\"mapbox\":{\"style\":\"light\"}}},\"xaxis\":{\"anchor\":\"y\",\"domain\":[0.0,1.0],\"title\":{\"text\":\"Player's Name\",\"font\":{\"size\":25,\"color\":\"black\"},\"standoff\":10}},\"yaxis\":{\"anchor\":\"x\",\"domain\":[0.0,0.7326],\"title\":{\"text\":\"Interceptions\",\"font\":{\"size\":25,\"color\":\"black\"},\"standoff\":10}},\"xaxis2\":{\"anchor\":\"y2\",\"domain\":[0.0,1.0],\"matches\":\"x\",\"showticklabels\":false,\"showgrid\":true},\"yaxis2\":{\"anchor\":\"x2\",\"domain\":[0.7426,1.0],\"matches\":\"y2\",\"showticklabels\":false,\"showline\":false,\"ticks\":\"\",\"showgrid\":false},\"legend\":{\"title\":{\"text\":\"Conference\"},\"tracegroupgap\":0},\"title\":{\"text\":\"All Players With Interceptions\",\"font\":{\"size\":35},\"x\":0.5},\"barmode\":\"relative\",\"autosize\":true,\"height\":550,\"font\":{\"size\":12,\"color\":\"black\"}},                        {\"responsive\": true}                    ).then(function(){\n",
       "                            \n",
       "var gd = document.getElementById('575247d8-fb23-46cd-a80e-10a9dd803a01');\n",
       "var x = new MutationObserver(function (mutations, observer) {{\n",
       "        var display = window.getComputedStyle(gd).display;\n",
       "        if (!display || display === 'none') {{\n",
       "            console.log([gd, 'removed!']);\n",
       "            Plotly.purge(gd);\n",
       "            observer.disconnect();\n",
       "        }}\n",
       "}});\n",
       "\n",
       "// Listen for the removal of the full notebook cells\n",
       "var notebookContainer = gd.closest('#notebook-container');\n",
       "if (notebookContainer) {{\n",
       "    x.observe(notebookContainer, {childList: true});\n",
       "}}\n",
       "\n",
       "// Listen for the clearing of the current output cell\n",
       "var outputEl = gd.closest('.output');\n",
       "if (outputEl) {{\n",
       "    x.observe(outputEl, {childList: true});\n",
       "}}\n",
       "\n",
       "                        })                };                });            </script>        </div>"
      ]
     },
     "metadata": {},
     "output_type": "display_data"
    }
   ],
   "source": [
    "all_interceptions = interceptions[interceptions['Int'] > 0]\n",
    "\n",
    "fig = px.histogram(x=all_interceptions['Player'], y=all_interceptions['Int'], color=all_interceptions['Conference'], marginal=\"violin\", labels={'x': \"Player's Name\", 'y': 'Interceptions', 'color':'Conference'}, title='All Players With Interceptions')\n",
    "\n",
    "fig.update_layout(autosize=True, height=550, title={'text': 'All Players With Interceptions', 'x': 0.5, 'font':{'size': 35}}, xaxis=dict(title={'text': \"Player's Name\", 'font': {'size': 25, 'color': 'black'}, 'standoff': 10}), yaxis=dict(title={'text': 'Interceptions', 'font': {'size': 25, 'color': 'black'}, 'standoff': 10}))\n",
    "\n",
    "fig.update_layout(font=dict(size=12, color=\"black\"))\n",
    "\n",
    "fig.show()"
   ]
  },
  {
   "cell_type": "code",
   "execution_count": 54,
   "metadata": {},
   "outputs": [
    {
     "data": {
      "application/vnd.plotly.v1+json": {
       "config": {
        "plotlyServerURL": "https://plot.ly"
       },
       "data": [
        {
         "alignmentgroup": "True",
         "hovertemplate": "Conference=Pac-12<br>Player's Name=%{x}<br>Interceptions=%{y}<extra></extra>",
         "legendgroup": "Pac-12",
         "marker": {
          "color": "#636efa",
          "pattern": {
           "shape": ""
          }
         },
         "name": "Pac-12",
         "offsetgroup": "Pac-12",
         "orientation": "v",
         "showlegend": true,
         "textposition": "auto",
         "type": "bar",
         "x": [
          "Jaylinn Hawkins",
          "Jevon Holland",
          "Byron Murphy",
          "Ashtyn Davis",
          "Paulson Adebo"
         ],
         "xaxis": "x",
         "y": [
          6,
          5,
          4,
          4,
          4
         ],
         "yaxis": "y"
        },
        {
         "alignmentgroup": "True",
         "hovertemplate": "Conference=SEC<br>Player's Name=%{x}<br>Interceptions=%{y}<extra></extra>",
         "legendgroup": "SEC",
         "marker": {
          "color": "#EF553B",
          "pattern": {
           "shape": ""
          }
         },
         "name": "SEC",
         "offsetgroup": "SEC",
         "orientation": "v",
         "showlegend": true,
         "textposition": "auto",
         "type": "bar",
         "x": [
          "Grant Delpit",
          "Chauncey Gardner-Johnson",
          "Joejuan Williams"
         ],
         "xaxis": "x",
         "y": [
          5,
          4,
          4
         ],
         "yaxis": "y"
        }
       ],
       "layout": {
        "barmode": "relative",
        "legend": {
         "title": {
          "text": "Conference"
         },
         "tracegroupgap": 0
        },
        "template": {
         "data": {
          "bar": [
           {
            "error_x": {
             "color": "#2a3f5f"
            },
            "error_y": {
             "color": "#2a3f5f"
            },
            "marker": {
             "line": {
              "color": "#E5ECF6",
              "width": 0.5
             },
             "pattern": {
              "fillmode": "overlay",
              "size": 10,
              "solidity": 0.2
             }
            },
            "type": "bar"
           }
          ],
          "barpolar": [
           {
            "marker": {
             "line": {
              "color": "#E5ECF6",
              "width": 0.5
             },
             "pattern": {
              "fillmode": "overlay",
              "size": 10,
              "solidity": 0.2
             }
            },
            "type": "barpolar"
           }
          ],
          "carpet": [
           {
            "aaxis": {
             "endlinecolor": "#2a3f5f",
             "gridcolor": "white",
             "linecolor": "white",
             "minorgridcolor": "white",
             "startlinecolor": "#2a3f5f"
            },
            "baxis": {
             "endlinecolor": "#2a3f5f",
             "gridcolor": "white",
             "linecolor": "white",
             "minorgridcolor": "white",
             "startlinecolor": "#2a3f5f"
            },
            "type": "carpet"
           }
          ],
          "choropleth": [
           {
            "colorbar": {
             "outlinewidth": 0,
             "ticks": ""
            },
            "type": "choropleth"
           }
          ],
          "contour": [
           {
            "colorbar": {
             "outlinewidth": 0,
             "ticks": ""
            },
            "colorscale": [
             [
              0,
              "#0d0887"
             ],
             [
              0.1111111111111111,
              "#46039f"
             ],
             [
              0.2222222222222222,
              "#7201a8"
             ],
             [
              0.3333333333333333,
              "#9c179e"
             ],
             [
              0.4444444444444444,
              "#bd3786"
             ],
             [
              0.5555555555555556,
              "#d8576b"
             ],
             [
              0.6666666666666666,
              "#ed7953"
             ],
             [
              0.7777777777777778,
              "#fb9f3a"
             ],
             [
              0.8888888888888888,
              "#fdca26"
             ],
             [
              1,
              "#f0f921"
             ]
            ],
            "type": "contour"
           }
          ],
          "contourcarpet": [
           {
            "colorbar": {
             "outlinewidth": 0,
             "ticks": ""
            },
            "type": "contourcarpet"
           }
          ],
          "heatmap": [
           {
            "colorbar": {
             "outlinewidth": 0,
             "ticks": ""
            },
            "colorscale": [
             [
              0,
              "#0d0887"
             ],
             [
              0.1111111111111111,
              "#46039f"
             ],
             [
              0.2222222222222222,
              "#7201a8"
             ],
             [
              0.3333333333333333,
              "#9c179e"
             ],
             [
              0.4444444444444444,
              "#bd3786"
             ],
             [
              0.5555555555555556,
              "#d8576b"
             ],
             [
              0.6666666666666666,
              "#ed7953"
             ],
             [
              0.7777777777777778,
              "#fb9f3a"
             ],
             [
              0.8888888888888888,
              "#fdca26"
             ],
             [
              1,
              "#f0f921"
             ]
            ],
            "type": "heatmap"
           }
          ],
          "heatmapgl": [
           {
            "colorbar": {
             "outlinewidth": 0,
             "ticks": ""
            },
            "colorscale": [
             [
              0,
              "#0d0887"
             ],
             [
              0.1111111111111111,
              "#46039f"
             ],
             [
              0.2222222222222222,
              "#7201a8"
             ],
             [
              0.3333333333333333,
              "#9c179e"
             ],
             [
              0.4444444444444444,
              "#bd3786"
             ],
             [
              0.5555555555555556,
              "#d8576b"
             ],
             [
              0.6666666666666666,
              "#ed7953"
             ],
             [
              0.7777777777777778,
              "#fb9f3a"
             ],
             [
              0.8888888888888888,
              "#fdca26"
             ],
             [
              1,
              "#f0f921"
             ]
            ],
            "type": "heatmapgl"
           }
          ],
          "histogram": [
           {
            "marker": {
             "pattern": {
              "fillmode": "overlay",
              "size": 10,
              "solidity": 0.2
             }
            },
            "type": "histogram"
           }
          ],
          "histogram2d": [
           {
            "colorbar": {
             "outlinewidth": 0,
             "ticks": ""
            },
            "colorscale": [
             [
              0,
              "#0d0887"
             ],
             [
              0.1111111111111111,
              "#46039f"
             ],
             [
              0.2222222222222222,
              "#7201a8"
             ],
             [
              0.3333333333333333,
              "#9c179e"
             ],
             [
              0.4444444444444444,
              "#bd3786"
             ],
             [
              0.5555555555555556,
              "#d8576b"
             ],
             [
              0.6666666666666666,
              "#ed7953"
             ],
             [
              0.7777777777777778,
              "#fb9f3a"
             ],
             [
              0.8888888888888888,
              "#fdca26"
             ],
             [
              1,
              "#f0f921"
             ]
            ],
            "type": "histogram2d"
           }
          ],
          "histogram2dcontour": [
           {
            "colorbar": {
             "outlinewidth": 0,
             "ticks": ""
            },
            "colorscale": [
             [
              0,
              "#0d0887"
             ],
             [
              0.1111111111111111,
              "#46039f"
             ],
             [
              0.2222222222222222,
              "#7201a8"
             ],
             [
              0.3333333333333333,
              "#9c179e"
             ],
             [
              0.4444444444444444,
              "#bd3786"
             ],
             [
              0.5555555555555556,
              "#d8576b"
             ],
             [
              0.6666666666666666,
              "#ed7953"
             ],
             [
              0.7777777777777778,
              "#fb9f3a"
             ],
             [
              0.8888888888888888,
              "#fdca26"
             ],
             [
              1,
              "#f0f921"
             ]
            ],
            "type": "histogram2dcontour"
           }
          ],
          "mesh3d": [
           {
            "colorbar": {
             "outlinewidth": 0,
             "ticks": ""
            },
            "type": "mesh3d"
           }
          ],
          "parcoords": [
           {
            "line": {
             "colorbar": {
              "outlinewidth": 0,
              "ticks": ""
             }
            },
            "type": "parcoords"
           }
          ],
          "pie": [
           {
            "automargin": true,
            "type": "pie"
           }
          ],
          "scatter": [
           {
            "fillpattern": {
             "fillmode": "overlay",
             "size": 10,
             "solidity": 0.2
            },
            "type": "scatter"
           }
          ],
          "scatter3d": [
           {
            "line": {
             "colorbar": {
              "outlinewidth": 0,
              "ticks": ""
             }
            },
            "marker": {
             "colorbar": {
              "outlinewidth": 0,
              "ticks": ""
             }
            },
            "type": "scatter3d"
           }
          ],
          "scattercarpet": [
           {
            "marker": {
             "colorbar": {
              "outlinewidth": 0,
              "ticks": ""
             }
            },
            "type": "scattercarpet"
           }
          ],
          "scattergeo": [
           {
            "marker": {
             "colorbar": {
              "outlinewidth": 0,
              "ticks": ""
             }
            },
            "type": "scattergeo"
           }
          ],
          "scattergl": [
           {
            "marker": {
             "colorbar": {
              "outlinewidth": 0,
              "ticks": ""
             }
            },
            "type": "scattergl"
           }
          ],
          "scattermapbox": [
           {
            "marker": {
             "colorbar": {
              "outlinewidth": 0,
              "ticks": ""
             }
            },
            "type": "scattermapbox"
           }
          ],
          "scatterpolar": [
           {
            "marker": {
             "colorbar": {
              "outlinewidth": 0,
              "ticks": ""
             }
            },
            "type": "scatterpolar"
           }
          ],
          "scatterpolargl": [
           {
            "marker": {
             "colorbar": {
              "outlinewidth": 0,
              "ticks": ""
             }
            },
            "type": "scatterpolargl"
           }
          ],
          "scatterternary": [
           {
            "marker": {
             "colorbar": {
              "outlinewidth": 0,
              "ticks": ""
             }
            },
            "type": "scatterternary"
           }
          ],
          "surface": [
           {
            "colorbar": {
             "outlinewidth": 0,
             "ticks": ""
            },
            "colorscale": [
             [
              0,
              "#0d0887"
             ],
             [
              0.1111111111111111,
              "#46039f"
             ],
             [
              0.2222222222222222,
              "#7201a8"
             ],
             [
              0.3333333333333333,
              "#9c179e"
             ],
             [
              0.4444444444444444,
              "#bd3786"
             ],
             [
              0.5555555555555556,
              "#d8576b"
             ],
             [
              0.6666666666666666,
              "#ed7953"
             ],
             [
              0.7777777777777778,
              "#fb9f3a"
             ],
             [
              0.8888888888888888,
              "#fdca26"
             ],
             [
              1,
              "#f0f921"
             ]
            ],
            "type": "surface"
           }
          ],
          "table": [
           {
            "cells": {
             "fill": {
              "color": "#EBF0F8"
             },
             "line": {
              "color": "white"
             }
            },
            "header": {
             "fill": {
              "color": "#C8D4E3"
             },
             "line": {
              "color": "white"
             }
            },
            "type": "table"
           }
          ]
         },
         "layout": {
          "annotationdefaults": {
           "arrowcolor": "#2a3f5f",
           "arrowhead": 0,
           "arrowwidth": 1
          },
          "autotypenumbers": "strict",
          "coloraxis": {
           "colorbar": {
            "outlinewidth": 0,
            "ticks": ""
           }
          },
          "colorscale": {
           "diverging": [
            [
             0,
             "#8e0152"
            ],
            [
             0.1,
             "#c51b7d"
            ],
            [
             0.2,
             "#de77ae"
            ],
            [
             0.3,
             "#f1b6da"
            ],
            [
             0.4,
             "#fde0ef"
            ],
            [
             0.5,
             "#f7f7f7"
            ],
            [
             0.6,
             "#e6f5d0"
            ],
            [
             0.7,
             "#b8e186"
            ],
            [
             0.8,
             "#7fbc41"
            ],
            [
             0.9,
             "#4d9221"
            ],
            [
             1,
             "#276419"
            ]
           ],
           "sequential": [
            [
             0,
             "#0d0887"
            ],
            [
             0.1111111111111111,
             "#46039f"
            ],
            [
             0.2222222222222222,
             "#7201a8"
            ],
            [
             0.3333333333333333,
             "#9c179e"
            ],
            [
             0.4444444444444444,
             "#bd3786"
            ],
            [
             0.5555555555555556,
             "#d8576b"
            ],
            [
             0.6666666666666666,
             "#ed7953"
            ],
            [
             0.7777777777777778,
             "#fb9f3a"
            ],
            [
             0.8888888888888888,
             "#fdca26"
            ],
            [
             1,
             "#f0f921"
            ]
           ],
           "sequentialminus": [
            [
             0,
             "#0d0887"
            ],
            [
             0.1111111111111111,
             "#46039f"
            ],
            [
             0.2222222222222222,
             "#7201a8"
            ],
            [
             0.3333333333333333,
             "#9c179e"
            ],
            [
             0.4444444444444444,
             "#bd3786"
            ],
            [
             0.5555555555555556,
             "#d8576b"
            ],
            [
             0.6666666666666666,
             "#ed7953"
            ],
            [
             0.7777777777777778,
             "#fb9f3a"
            ],
            [
             0.8888888888888888,
             "#fdca26"
            ],
            [
             1,
             "#f0f921"
            ]
           ]
          },
          "colorway": [
           "#636efa",
           "#EF553B",
           "#00cc96",
           "#ab63fa",
           "#FFA15A",
           "#19d3f3",
           "#FF6692",
           "#B6E880",
           "#FF97FF",
           "#FECB52"
          ],
          "font": {
           "color": "#2a3f5f"
          },
          "geo": {
           "bgcolor": "white",
           "lakecolor": "white",
           "landcolor": "#E5ECF6",
           "showlakes": true,
           "showland": true,
           "subunitcolor": "white"
          },
          "hoverlabel": {
           "align": "left"
          },
          "hovermode": "closest",
          "mapbox": {
           "style": "light"
          },
          "paper_bgcolor": "white",
          "plot_bgcolor": "#E5ECF6",
          "polar": {
           "angularaxis": {
            "gridcolor": "white",
            "linecolor": "white",
            "ticks": ""
           },
           "bgcolor": "#E5ECF6",
           "radialaxis": {
            "gridcolor": "white",
            "linecolor": "white",
            "ticks": ""
           }
          },
          "scene": {
           "xaxis": {
            "backgroundcolor": "#E5ECF6",
            "gridcolor": "white",
            "gridwidth": 2,
            "linecolor": "white",
            "showbackground": true,
            "ticks": "",
            "zerolinecolor": "white"
           },
           "yaxis": {
            "backgroundcolor": "#E5ECF6",
            "gridcolor": "white",
            "gridwidth": 2,
            "linecolor": "white",
            "showbackground": true,
            "ticks": "",
            "zerolinecolor": "white"
           },
           "zaxis": {
            "backgroundcolor": "#E5ECF6",
            "gridcolor": "white",
            "gridwidth": 2,
            "linecolor": "white",
            "showbackground": true,
            "ticks": "",
            "zerolinecolor": "white"
           }
          },
          "shapedefaults": {
           "line": {
            "color": "#2a3f5f"
           }
          },
          "ternary": {
           "aaxis": {
            "gridcolor": "white",
            "linecolor": "white",
            "ticks": ""
           },
           "baxis": {
            "gridcolor": "white",
            "linecolor": "white",
            "ticks": ""
           },
           "bgcolor": "#E5ECF6",
           "caxis": {
            "gridcolor": "white",
            "linecolor": "white",
            "ticks": ""
           }
          },
          "title": {
           "x": 0.05
          },
          "xaxis": {
           "automargin": true,
           "gridcolor": "white",
           "linecolor": "white",
           "ticks": "",
           "title": {
            "standoff": 15
           },
           "zerolinecolor": "white",
           "zerolinewidth": 2
          },
          "yaxis": {
           "automargin": true,
           "gridcolor": "white",
           "linecolor": "white",
           "ticks": "",
           "title": {
            "standoff": 15
           },
           "zerolinecolor": "white",
           "zerolinewidth": 2
          }
         }
        },
        "title": {
         "text": "Top 3 in Interceptions"
        },
        "xaxis": {
         "anchor": "y",
         "domain": [
          0,
          1
         ],
         "title": {
          "text": "Player's Name"
         }
        },
        "yaxis": {
         "anchor": "x",
         "domain": [
          0,
          1
         ],
         "title": {
          "text": "Interceptions"
         }
        }
       }
      },
      "text/html": [
       "<div>                            <div id=\"69478e5f-a35d-4bda-a8a5-baf3a19ab317\" class=\"plotly-graph-div\" style=\"height:525px; width:100%;\"></div>            <script type=\"text/javascript\">                require([\"plotly\"], function(Plotly) {                    window.PLOTLYENV=window.PLOTLYENV || {};                                    if (document.getElementById(\"69478e5f-a35d-4bda-a8a5-baf3a19ab317\")) {                    Plotly.newPlot(                        \"69478e5f-a35d-4bda-a8a5-baf3a19ab317\",                        [{\"alignmentgroup\":\"True\",\"hovertemplate\":\"Conference=Pac-12\\u003cbr\\u003ePlayer's Name=%{x}\\u003cbr\\u003eInterceptions=%{y}\\u003cextra\\u003e\\u003c\\u002fextra\\u003e\",\"legendgroup\":\"Pac-12\",\"marker\":{\"color\":\"#636efa\",\"pattern\":{\"shape\":\"\"}},\"name\":\"Pac-12\",\"offsetgroup\":\"Pac-12\",\"orientation\":\"v\",\"showlegend\":true,\"textposition\":\"auto\",\"x\":[\"Jaylinn Hawkins\",\"Jevon Holland\",\"Byron Murphy\",\"Ashtyn Davis\",\"Paulson Adebo\"],\"xaxis\":\"x\",\"y\":[6,5,4,4,4],\"yaxis\":\"y\",\"type\":\"bar\"},{\"alignmentgroup\":\"True\",\"hovertemplate\":\"Conference=SEC\\u003cbr\\u003ePlayer's Name=%{x}\\u003cbr\\u003eInterceptions=%{y}\\u003cextra\\u003e\\u003c\\u002fextra\\u003e\",\"legendgroup\":\"SEC\",\"marker\":{\"color\":\"#EF553B\",\"pattern\":{\"shape\":\"\"}},\"name\":\"SEC\",\"offsetgroup\":\"SEC\",\"orientation\":\"v\",\"showlegend\":true,\"textposition\":\"auto\",\"x\":[\"Grant Delpit\",\"Chauncey Gardner-Johnson\",\"Joejuan Williams\"],\"xaxis\":\"x\",\"y\":[5,4,4],\"yaxis\":\"y\",\"type\":\"bar\"}],                        {\"template\":{\"data\":{\"histogram2dcontour\":[{\"type\":\"histogram2dcontour\",\"colorbar\":{\"outlinewidth\":0,\"ticks\":\"\"},\"colorscale\":[[0.0,\"#0d0887\"],[0.1111111111111111,\"#46039f\"],[0.2222222222222222,\"#7201a8\"],[0.3333333333333333,\"#9c179e\"],[0.4444444444444444,\"#bd3786\"],[0.5555555555555556,\"#d8576b\"],[0.6666666666666666,\"#ed7953\"],[0.7777777777777778,\"#fb9f3a\"],[0.8888888888888888,\"#fdca26\"],[1.0,\"#f0f921\"]]}],\"choropleth\":[{\"type\":\"choropleth\",\"colorbar\":{\"outlinewidth\":0,\"ticks\":\"\"}}],\"histogram2d\":[{\"type\":\"histogram2d\",\"colorbar\":{\"outlinewidth\":0,\"ticks\":\"\"},\"colorscale\":[[0.0,\"#0d0887\"],[0.1111111111111111,\"#46039f\"],[0.2222222222222222,\"#7201a8\"],[0.3333333333333333,\"#9c179e\"],[0.4444444444444444,\"#bd3786\"],[0.5555555555555556,\"#d8576b\"],[0.6666666666666666,\"#ed7953\"],[0.7777777777777778,\"#fb9f3a\"],[0.8888888888888888,\"#fdca26\"],[1.0,\"#f0f921\"]]}],\"heatmap\":[{\"type\":\"heatmap\",\"colorbar\":{\"outlinewidth\":0,\"ticks\":\"\"},\"colorscale\":[[0.0,\"#0d0887\"],[0.1111111111111111,\"#46039f\"],[0.2222222222222222,\"#7201a8\"],[0.3333333333333333,\"#9c179e\"],[0.4444444444444444,\"#bd3786\"],[0.5555555555555556,\"#d8576b\"],[0.6666666666666666,\"#ed7953\"],[0.7777777777777778,\"#fb9f3a\"],[0.8888888888888888,\"#fdca26\"],[1.0,\"#f0f921\"]]}],\"heatmapgl\":[{\"type\":\"heatmapgl\",\"colorbar\":{\"outlinewidth\":0,\"ticks\":\"\"},\"colorscale\":[[0.0,\"#0d0887\"],[0.1111111111111111,\"#46039f\"],[0.2222222222222222,\"#7201a8\"],[0.3333333333333333,\"#9c179e\"],[0.4444444444444444,\"#bd3786\"],[0.5555555555555556,\"#d8576b\"],[0.6666666666666666,\"#ed7953\"],[0.7777777777777778,\"#fb9f3a\"],[0.8888888888888888,\"#fdca26\"],[1.0,\"#f0f921\"]]}],\"contourcarpet\":[{\"type\":\"contourcarpet\",\"colorbar\":{\"outlinewidth\":0,\"ticks\":\"\"}}],\"contour\":[{\"type\":\"contour\",\"colorbar\":{\"outlinewidth\":0,\"ticks\":\"\"},\"colorscale\":[[0.0,\"#0d0887\"],[0.1111111111111111,\"#46039f\"],[0.2222222222222222,\"#7201a8\"],[0.3333333333333333,\"#9c179e\"],[0.4444444444444444,\"#bd3786\"],[0.5555555555555556,\"#d8576b\"],[0.6666666666666666,\"#ed7953\"],[0.7777777777777778,\"#fb9f3a\"],[0.8888888888888888,\"#fdca26\"],[1.0,\"#f0f921\"]]}],\"surface\":[{\"type\":\"surface\",\"colorbar\":{\"outlinewidth\":0,\"ticks\":\"\"},\"colorscale\":[[0.0,\"#0d0887\"],[0.1111111111111111,\"#46039f\"],[0.2222222222222222,\"#7201a8\"],[0.3333333333333333,\"#9c179e\"],[0.4444444444444444,\"#bd3786\"],[0.5555555555555556,\"#d8576b\"],[0.6666666666666666,\"#ed7953\"],[0.7777777777777778,\"#fb9f3a\"],[0.8888888888888888,\"#fdca26\"],[1.0,\"#f0f921\"]]}],\"mesh3d\":[{\"type\":\"mesh3d\",\"colorbar\":{\"outlinewidth\":0,\"ticks\":\"\"}}],\"scatter\":[{\"fillpattern\":{\"fillmode\":\"overlay\",\"size\":10,\"solidity\":0.2},\"type\":\"scatter\"}],\"parcoords\":[{\"type\":\"parcoords\",\"line\":{\"colorbar\":{\"outlinewidth\":0,\"ticks\":\"\"}}}],\"scatterpolargl\":[{\"type\":\"scatterpolargl\",\"marker\":{\"colorbar\":{\"outlinewidth\":0,\"ticks\":\"\"}}}],\"bar\":[{\"error_x\":{\"color\":\"#2a3f5f\"},\"error_y\":{\"color\":\"#2a3f5f\"},\"marker\":{\"line\":{\"color\":\"#E5ECF6\",\"width\":0.5},\"pattern\":{\"fillmode\":\"overlay\",\"size\":10,\"solidity\":0.2}},\"type\":\"bar\"}],\"scattergeo\":[{\"type\":\"scattergeo\",\"marker\":{\"colorbar\":{\"outlinewidth\":0,\"ticks\":\"\"}}}],\"scatterpolar\":[{\"type\":\"scatterpolar\",\"marker\":{\"colorbar\":{\"outlinewidth\":0,\"ticks\":\"\"}}}],\"histogram\":[{\"marker\":{\"pattern\":{\"fillmode\":\"overlay\",\"size\":10,\"solidity\":0.2}},\"type\":\"histogram\"}],\"scattergl\":[{\"type\":\"scattergl\",\"marker\":{\"colorbar\":{\"outlinewidth\":0,\"ticks\":\"\"}}}],\"scatter3d\":[{\"type\":\"scatter3d\",\"line\":{\"colorbar\":{\"outlinewidth\":0,\"ticks\":\"\"}},\"marker\":{\"colorbar\":{\"outlinewidth\":0,\"ticks\":\"\"}}}],\"scattermapbox\":[{\"type\":\"scattermapbox\",\"marker\":{\"colorbar\":{\"outlinewidth\":0,\"ticks\":\"\"}}}],\"scatterternary\":[{\"type\":\"scatterternary\",\"marker\":{\"colorbar\":{\"outlinewidth\":0,\"ticks\":\"\"}}}],\"scattercarpet\":[{\"type\":\"scattercarpet\",\"marker\":{\"colorbar\":{\"outlinewidth\":0,\"ticks\":\"\"}}}],\"carpet\":[{\"aaxis\":{\"endlinecolor\":\"#2a3f5f\",\"gridcolor\":\"white\",\"linecolor\":\"white\",\"minorgridcolor\":\"white\",\"startlinecolor\":\"#2a3f5f\"},\"baxis\":{\"endlinecolor\":\"#2a3f5f\",\"gridcolor\":\"white\",\"linecolor\":\"white\",\"minorgridcolor\":\"white\",\"startlinecolor\":\"#2a3f5f\"},\"type\":\"carpet\"}],\"table\":[{\"cells\":{\"fill\":{\"color\":\"#EBF0F8\"},\"line\":{\"color\":\"white\"}},\"header\":{\"fill\":{\"color\":\"#C8D4E3\"},\"line\":{\"color\":\"white\"}},\"type\":\"table\"}],\"barpolar\":[{\"marker\":{\"line\":{\"color\":\"#E5ECF6\",\"width\":0.5},\"pattern\":{\"fillmode\":\"overlay\",\"size\":10,\"solidity\":0.2}},\"type\":\"barpolar\"}],\"pie\":[{\"automargin\":true,\"type\":\"pie\"}]},\"layout\":{\"autotypenumbers\":\"strict\",\"colorway\":[\"#636efa\",\"#EF553B\",\"#00cc96\",\"#ab63fa\",\"#FFA15A\",\"#19d3f3\",\"#FF6692\",\"#B6E880\",\"#FF97FF\",\"#FECB52\"],\"font\":{\"color\":\"#2a3f5f\"},\"hovermode\":\"closest\",\"hoverlabel\":{\"align\":\"left\"},\"paper_bgcolor\":\"white\",\"plot_bgcolor\":\"#E5ECF6\",\"polar\":{\"bgcolor\":\"#E5ECF6\",\"angularaxis\":{\"gridcolor\":\"white\",\"linecolor\":\"white\",\"ticks\":\"\"},\"radialaxis\":{\"gridcolor\":\"white\",\"linecolor\":\"white\",\"ticks\":\"\"}},\"ternary\":{\"bgcolor\":\"#E5ECF6\",\"aaxis\":{\"gridcolor\":\"white\",\"linecolor\":\"white\",\"ticks\":\"\"},\"baxis\":{\"gridcolor\":\"white\",\"linecolor\":\"white\",\"ticks\":\"\"},\"caxis\":{\"gridcolor\":\"white\",\"linecolor\":\"white\",\"ticks\":\"\"}},\"coloraxis\":{\"colorbar\":{\"outlinewidth\":0,\"ticks\":\"\"}},\"colorscale\":{\"sequential\":[[0.0,\"#0d0887\"],[0.1111111111111111,\"#46039f\"],[0.2222222222222222,\"#7201a8\"],[0.3333333333333333,\"#9c179e\"],[0.4444444444444444,\"#bd3786\"],[0.5555555555555556,\"#d8576b\"],[0.6666666666666666,\"#ed7953\"],[0.7777777777777778,\"#fb9f3a\"],[0.8888888888888888,\"#fdca26\"],[1.0,\"#f0f921\"]],\"sequentialminus\":[[0.0,\"#0d0887\"],[0.1111111111111111,\"#46039f\"],[0.2222222222222222,\"#7201a8\"],[0.3333333333333333,\"#9c179e\"],[0.4444444444444444,\"#bd3786\"],[0.5555555555555556,\"#d8576b\"],[0.6666666666666666,\"#ed7953\"],[0.7777777777777778,\"#fb9f3a\"],[0.8888888888888888,\"#fdca26\"],[1.0,\"#f0f921\"]],\"diverging\":[[0,\"#8e0152\"],[0.1,\"#c51b7d\"],[0.2,\"#de77ae\"],[0.3,\"#f1b6da\"],[0.4,\"#fde0ef\"],[0.5,\"#f7f7f7\"],[0.6,\"#e6f5d0\"],[0.7,\"#b8e186\"],[0.8,\"#7fbc41\"],[0.9,\"#4d9221\"],[1,\"#276419\"]]},\"xaxis\":{\"gridcolor\":\"white\",\"linecolor\":\"white\",\"ticks\":\"\",\"title\":{\"standoff\":15},\"zerolinecolor\":\"white\",\"automargin\":true,\"zerolinewidth\":2},\"yaxis\":{\"gridcolor\":\"white\",\"linecolor\":\"white\",\"ticks\":\"\",\"title\":{\"standoff\":15},\"zerolinecolor\":\"white\",\"automargin\":true,\"zerolinewidth\":2},\"scene\":{\"xaxis\":{\"backgroundcolor\":\"#E5ECF6\",\"gridcolor\":\"white\",\"linecolor\":\"white\",\"showbackground\":true,\"ticks\":\"\",\"zerolinecolor\":\"white\",\"gridwidth\":2},\"yaxis\":{\"backgroundcolor\":\"#E5ECF6\",\"gridcolor\":\"white\",\"linecolor\":\"white\",\"showbackground\":true,\"ticks\":\"\",\"zerolinecolor\":\"white\",\"gridwidth\":2},\"zaxis\":{\"backgroundcolor\":\"#E5ECF6\",\"gridcolor\":\"white\",\"linecolor\":\"white\",\"showbackground\":true,\"ticks\":\"\",\"zerolinecolor\":\"white\",\"gridwidth\":2}},\"shapedefaults\":{\"line\":{\"color\":\"#2a3f5f\"}},\"annotationdefaults\":{\"arrowcolor\":\"#2a3f5f\",\"arrowhead\":0,\"arrowwidth\":1},\"geo\":{\"bgcolor\":\"white\",\"landcolor\":\"#E5ECF6\",\"subunitcolor\":\"white\",\"showland\":true,\"showlakes\":true,\"lakecolor\":\"white\"},\"title\":{\"x\":0.05},\"mapbox\":{\"style\":\"light\"}}},\"xaxis\":{\"anchor\":\"y\",\"domain\":[0.0,1.0],\"title\":{\"text\":\"Player's Name\"}},\"yaxis\":{\"anchor\":\"x\",\"domain\":[0.0,1.0],\"title\":{\"text\":\"Interceptions\"}},\"legend\":{\"title\":{\"text\":\"Conference\"},\"tracegroupgap\":0},\"title\":{\"text\":\"Top 3 in Interceptions\"},\"barmode\":\"relative\"},                        {\"responsive\": true}                    ).then(function(){\n",
       "                            \n",
       "var gd = document.getElementById('69478e5f-a35d-4bda-a8a5-baf3a19ab317');\n",
       "var x = new MutationObserver(function (mutations, observer) {{\n",
       "        var display = window.getComputedStyle(gd).display;\n",
       "        if (!display || display === 'none') {{\n",
       "            console.log([gd, 'removed!']);\n",
       "            Plotly.purge(gd);\n",
       "            observer.disconnect();\n",
       "        }}\n",
       "}});\n",
       "\n",
       "// Listen for the removal of the full notebook cells\n",
       "var notebookContainer = gd.closest('#notebook-container');\n",
       "if (notebookContainer) {{\n",
       "    x.observe(notebookContainer, {childList: true});\n",
       "}}\n",
       "\n",
       "// Listen for the clearing of the current output cell\n",
       "var outputEl = gd.closest('.output');\n",
       "if (outputEl) {{\n",
       "    x.observe(outputEl, {childList: true});\n",
       "}}\n",
       "\n",
       "                        })                };                });            </script>        </div>"
      ]
     },
     "metadata": {},
     "output_type": "display_data"
    }
   ],
   "source": [
    "px.bar(x=top_3_interceptions['Player'], y=top_3_interceptions['Int'], color=top_3_interceptions['Conference'], labels={'x':'Player\\'s Name', 'y':'Interceptions', 'color':'Conference'}, title='Top 3 in Interceptions')"
   ]
  },
  {
   "cell_type": "code",
   "execution_count": 58,
   "metadata": {},
   "outputs": [],
   "source": [
    "tackles = pac12_and_sec.sort_values(['Tot'], ascending=False).apply(lambda tackles:tackles)\n",
    "top_3_tackles = tackles[tackles['Tot'] >= 140]\n",
    "\n",
    "# tackles, top_3_tackles"
   ]
  },
  {
   "cell_type": "code",
   "execution_count": 60,
   "metadata": {},
   "outputs": [
    {
     "data": {
      "application/vnd.plotly.v1+json": {
       "config": {
        "plotlyServerURL": "https://plot.ly"
       },
       "data": [
        {
         "alignmentgroup": "True",
         "bingroup": "x",
         "histfunc": "sum",
         "hovertemplate": "Conference=Pac-12<br>Player's Name=%{x}<br>sum of Tackles=%{y}<extra></extra>",
         "legendgroup": "Pac-12",
         "marker": {
          "color": "green",
          "pattern": {
           "shape": ""
          }
         },
         "name": "Pac-12",
         "offsetgroup": "Pac-12",
         "orientation": "v",
         "showlegend": true,
         "type": "histogram",
         "x": [
          "Ben Burr-Kirven",
          "Evan Weaver",
          "Jordan Kunaszyk",
          "Adarius Pickett",
          "Colin Schooler",
          "Cody Barton",
          "Troy Dye",
          "Chase Hansen",
          "Nate Landman",
          "Sean Barton",
          "Krys Barnes",
          "Shemar Smith",
          "Jahad Woods",
          "Merlin Robertson",
          "Skyler Thomas",
          "Rick Gamboa",
          "Corrion Ballard",
          "Quentin Lake",
          "Jalen Thompson",
          "Kaulana Apelu",
          "Justin Hollins",
          "Paulson Adebo",
          "Chase Lucas",
          "Drew Lewis",
          "Nick Pickett",
          "Taylor Rapp",
          "Marquise Blair",
          "Byron Murphy",
          "Ajene Harris",
          "Marvell Tell III",
          "Thomas Graham Jr.",
          "Greg Gaines",
          "Ashtyn Davis",
          "Ugo Amadi",
          "Jarrius Wallace",
          "Malik Antoine",
          "Deommodore Lenoir",
          "Frank Buncom",
          "Kobe Williams",
          "Bradlee Anae",
          "Darnay Holmes",
          "Julian Blackmon",
          "Camryn Bynum",
          "Isaiah Langley",
          "Keisean Lucier-South",
          "Shawn Wilson",
          "Darrien Molton",
          "Nick Fisher",
          "Aashari Crosswell",
          "Javelin Guidry",
          "Marcus Strong",
          "Jevon Holland",
          "Jaylon Johnson",
          "Evan Worthington",
          "Delrick Abrams Jr.",
          "Elijah Gates",
          "Scottie Young Jr.",
          "Francis Bernard",
          "Dante Wigley",
          "Nate Meadors",
          "Joey Alfieri",
          "Elu Aydon",
          "Alameen Murphy",
          "Jaylinn Hawkins",
          "Traveon Beck",
          "Elijah Hicks",
          "Willie Taylor",
          "Terin Adams",
          "Thomas Booker",
          "Shannon Forman",
          "Jordan Miller",
          "Derrion Rakestraw",
          "Hauati Pututau",
          "Martin Andrus",
          "Josh Drayden",
          "Terrell Burgess",
          "Israel Antwine",
          "Cam Phillips",
          "Lee Anderson III",
          "Deion Singleton",
          "Dasmond Tautalatasi",
          "Pita Tonga",
          "John McCartan",
          "Troy Young",
          "Misiona Aiolupotea-Pei",
          "Kedron Williams",
          "Jake Ashton",
          "Popo Aumavae",
          "Philip Afia",
          "Cameron Goode",
          "Daniel Arias",
          "Michael Alfieri",
          "Salvon Ahmed",
          "Jordan McMillan",
          "Brandon Aiyuk",
          "Brandon Arconado",
          "Biaggio Ali Walsh",
          "Cody Anderson",
          "Nick Alftin"
         ],
         "xaxis": "x",
         "y": [
          176,
          156,
          147,
          123,
          119,
          116,
          114,
          114,
          104,
          91,
          85,
          85,
          82,
          77,
          76,
          71,
          70,
          67,
          66,
          65,
          64,
          63,
          62,
          60,
          59,
          59,
          59,
          58,
          58,
          56,
          56,
          55,
          55,
          54,
          53,
          52,
          52,
          51,
          50,
          50,
          48,
          48,
          48,
          46,
          46,
          44,
          44,
          43,
          43,
          42,
          42,
          42,
          41,
          40,
          40,
          39,
          38,
          38,
          37,
          37,
          37,
          36,
          35,
          33,
          32,
          31,
          30,
          30,
          29,
          26,
          26,
          24,
          19,
          18,
          18,
          16,
          15,
          14,
          14,
          14,
          13,
          12,
          11,
          10,
          8,
          7,
          5,
          5,
          3,
          3,
          3,
          2,
          2,
          1,
          1,
          1,
          1,
          1,
          1
         ],
         "yaxis": "y"
        },
        {
         "alignmentgroup": "True",
         "hovertemplate": "Conference=Pac-12<br>Player's Name=%{x}<extra></extra>",
         "legendgroup": "Pac-12",
         "marker": {
          "color": "green"
         },
         "name": "Pac-12",
         "offsetgroup": "Pac-12",
         "scalegroup": "x",
         "showlegend": false,
         "type": "violin",
         "x": [
          "Ben Burr-Kirven",
          "Evan Weaver",
          "Jordan Kunaszyk",
          "Adarius Pickett",
          "Colin Schooler",
          "Cody Barton",
          "Troy Dye",
          "Chase Hansen",
          "Nate Landman",
          "Sean Barton",
          "Krys Barnes",
          "Shemar Smith",
          "Jahad Woods",
          "Merlin Robertson",
          "Skyler Thomas",
          "Rick Gamboa",
          "Corrion Ballard",
          "Quentin Lake",
          "Jalen Thompson",
          "Kaulana Apelu",
          "Justin Hollins",
          "Paulson Adebo",
          "Chase Lucas",
          "Drew Lewis",
          "Nick Pickett",
          "Taylor Rapp",
          "Marquise Blair",
          "Byron Murphy",
          "Ajene Harris",
          "Marvell Tell III",
          "Thomas Graham Jr.",
          "Greg Gaines",
          "Ashtyn Davis",
          "Ugo Amadi",
          "Jarrius Wallace",
          "Malik Antoine",
          "Deommodore Lenoir",
          "Frank Buncom",
          "Kobe Williams",
          "Bradlee Anae",
          "Darnay Holmes",
          "Julian Blackmon",
          "Camryn Bynum",
          "Isaiah Langley",
          "Keisean Lucier-South",
          "Shawn Wilson",
          "Darrien Molton",
          "Nick Fisher",
          "Aashari Crosswell",
          "Javelin Guidry",
          "Marcus Strong",
          "Jevon Holland",
          "Jaylon Johnson",
          "Evan Worthington",
          "Delrick Abrams Jr.",
          "Elijah Gates",
          "Scottie Young Jr.",
          "Francis Bernard",
          "Dante Wigley",
          "Nate Meadors",
          "Joey Alfieri",
          "Elu Aydon",
          "Alameen Murphy",
          "Jaylinn Hawkins",
          "Traveon Beck",
          "Elijah Hicks",
          "Willie Taylor",
          "Terin Adams",
          "Thomas Booker",
          "Shannon Forman",
          "Jordan Miller",
          "Derrion Rakestraw",
          "Hauati Pututau",
          "Martin Andrus",
          "Josh Drayden",
          "Terrell Burgess",
          "Israel Antwine",
          "Cam Phillips",
          "Lee Anderson III",
          "Deion Singleton",
          "Dasmond Tautalatasi",
          "Pita Tonga",
          "John McCartan",
          "Troy Young",
          "Misiona Aiolupotea-Pei",
          "Kedron Williams",
          "Jake Ashton",
          "Popo Aumavae",
          "Philip Afia",
          "Cameron Goode",
          "Daniel Arias",
          "Michael Alfieri",
          "Salvon Ahmed",
          "Jordan McMillan",
          "Brandon Aiyuk",
          "Brandon Arconado",
          "Biaggio Ali Walsh",
          "Cody Anderson",
          "Nick Alftin"
         ],
         "xaxis": "x2",
         "yaxis": "y2"
        },
        {
         "alignmentgroup": "True",
         "bingroup": "x",
         "histfunc": "sum",
         "hovertemplate": "Conference=SEC<br>Player's Name=%{x}<br>sum of Tackles=%{y}<extra></extra>",
         "legendgroup": "SEC",
         "marker": {
          "color": "orange",
          "pattern": {
           "shape": ""
          }
         },
         "name": "SEC",
         "offsetgroup": "SEC",
         "orientation": "v",
         "showlegend": true,
         "type": "histogram",
         "x": [
          "Jordan Griffin",
          "Johnathan Abram",
          "Jacob Phillips",
          "Erroll Thompson",
          "Darius West",
          "Ladarius Wiley",
          "Mike Edwards",
          "Dre Greenlaw",
          "Otaro Alaka",
          "Deionte Thompson",
          "Zedrick Woods",
          "Grant Delpit",
          "Darrell Williams",
          "Daniel Thomas",
          "Richard LeCounte III",
          "Xavier McKinney",
          "Sherrod Greene",
          "Chauncey Gardner-Johnson",
          "Mack Wilson",
          "Terez Hall",
          "Tyrel Dodson",
          "Donovan Wilson",
          "J.R. Reed",
          "Jeremiah Dinson",
          "Joejuan Williams",
          "Saivion Smith",
          "Kyle Phillips",
          "Michael Divinity Jr.",
          "Tae Crowder",
          "DeShawn Capers-Smith",
          "Darrin Kirkland Jr.",
          "Anfernee Jennings",
          "Noah Igbinoghene",
          "Donovan Stiner",
          "Willie Gay Jr.",
          "Keidron Smith",
          "McTelvin Agim",
          "Shyheim Carter",
          "Cameron Dantzler",
          "Javaris Davis",
          "Brad Stewart",
          "Deandre Baker",
          "John Battle",
          "C.J. Henderson",
          "Derrick Baity",
          "Adam Sparks",
          "Micah Abernathy",
          "Ryan Pulley",
          "Patrick Surtain II",
          "Vernon Dasher",
          "Christian Holmes",
          "JaCoby Stevens",
          "Rashad Fenton",
          "Larry Pryor",
          "Bryce Thompson",
          "Allan George",
          "Kendarius Webster",
          "Shy Tuttle",
          "Greedy Williams",
          "Jamyest Williams",
          "Charles Oliver",
          "Kary Vincent Jr.",
          "Todd Harris Jr.",
          "Cam Hilton",
          "DeMarkus Acy",
          "Frank Coppet",
          "Jamel Dean",
          "Edwin Alexander",
          "Dare Odeyingbo",
          "Trey Dean III",
          "Christian Tutt",
          "Louis Vecchio",
          "Kristian Fulton",
          "Terrence Alexander",
          "Tyrique McGhee",
          "Jamien Sherwood",
          "Lonnie Johnson",
          "Maurice Smitherman",
          "C.J. Morgan",
          "Trevon Diggs",
          "Fletcher Adams",
          "Big Cat Bryant",
          "Israel Mukuamu",
          "C.J. Moore",
          "Smoke Monday",
          "Randall Haynie",
          "Ventrell Miller",
          "Leon O'Neal Jr.",
          "Brian Cole II",
          "Shawn Shamburger",
          "Jonathan Kongbo",
          "Tyrell Ajian",
          "Jamin Davis",
          "Stephen Adegoke",
          "Luke Ancrum",
          "Marquill Osborne",
          "Ed Paris",
          "John Huggins",
          "Feleti Afemui",
          "Franklin Agbasimere"
         ],
         "xaxis": "x",
         "y": [
          119,
          99,
          87,
          87,
          86,
          83,
          82,
          80,
          79,
          79,
          79,
          74,
          74,
          74,
          74,
          73,
          73,
          71,
          71,
          70,
          70,
          66,
          66,
          64,
          61,
          60,
          55,
          54,
          53,
          52,
          51,
          50,
          50,
          49,
          48,
          47,
          45,
          44,
          43,
          41,
          41,
          40,
          39,
          38,
          38,
          38,
          38,
          37,
          37,
          36,
          35,
          35,
          34,
          34,
          34,
          33,
          33,
          33,
          33,
          32,
          31,
          31,
          31,
          31,
          30,
          30,
          30,
          28,
          28,
          26,
          25,
          24,
          24,
          23,
          23,
          23,
          23,
          23,
          20,
          20,
          20,
          18,
          17,
          17,
          15,
          15,
          15,
          14,
          11,
          11,
          11,
          10,
          10,
          9,
          8,
          8,
          4,
          3,
          2,
          2
         ],
         "yaxis": "y"
        },
        {
         "alignmentgroup": "True",
         "hovertemplate": "Conference=SEC<br>Player's Name=%{x}<extra></extra>",
         "legendgroup": "SEC",
         "marker": {
          "color": "orange"
         },
         "name": "SEC",
         "offsetgroup": "SEC",
         "scalegroup": "x",
         "showlegend": false,
         "type": "violin",
         "x": [
          "Jordan Griffin",
          "Johnathan Abram",
          "Jacob Phillips",
          "Erroll Thompson",
          "Darius West",
          "Ladarius Wiley",
          "Mike Edwards",
          "Dre Greenlaw",
          "Otaro Alaka",
          "Deionte Thompson",
          "Zedrick Woods",
          "Grant Delpit",
          "Darrell Williams",
          "Daniel Thomas",
          "Richard LeCounte III",
          "Xavier McKinney",
          "Sherrod Greene",
          "Chauncey Gardner-Johnson",
          "Mack Wilson",
          "Terez Hall",
          "Tyrel Dodson",
          "Donovan Wilson",
          "J.R. Reed",
          "Jeremiah Dinson",
          "Joejuan Williams",
          "Saivion Smith",
          "Kyle Phillips",
          "Michael Divinity Jr.",
          "Tae Crowder",
          "DeShawn Capers-Smith",
          "Darrin Kirkland Jr.",
          "Anfernee Jennings",
          "Noah Igbinoghene",
          "Donovan Stiner",
          "Willie Gay Jr.",
          "Keidron Smith",
          "McTelvin Agim",
          "Shyheim Carter",
          "Cameron Dantzler",
          "Javaris Davis",
          "Brad Stewart",
          "Deandre Baker",
          "John Battle",
          "C.J. Henderson",
          "Derrick Baity",
          "Adam Sparks",
          "Micah Abernathy",
          "Ryan Pulley",
          "Patrick Surtain II",
          "Vernon Dasher",
          "Christian Holmes",
          "JaCoby Stevens",
          "Rashad Fenton",
          "Larry Pryor",
          "Bryce Thompson",
          "Allan George",
          "Kendarius Webster",
          "Shy Tuttle",
          "Greedy Williams",
          "Jamyest Williams",
          "Charles Oliver",
          "Kary Vincent Jr.",
          "Todd Harris Jr.",
          "Cam Hilton",
          "DeMarkus Acy",
          "Frank Coppet",
          "Jamel Dean",
          "Edwin Alexander",
          "Dare Odeyingbo",
          "Trey Dean III",
          "Christian Tutt",
          "Louis Vecchio",
          "Kristian Fulton",
          "Terrence Alexander",
          "Tyrique McGhee",
          "Jamien Sherwood",
          "Lonnie Johnson",
          "Maurice Smitherman",
          "C.J. Morgan",
          "Trevon Diggs",
          "Fletcher Adams",
          "Big Cat Bryant",
          "Israel Mukuamu",
          "C.J. Moore",
          "Smoke Monday",
          "Randall Haynie",
          "Ventrell Miller",
          "Leon O'Neal Jr.",
          "Brian Cole II",
          "Shawn Shamburger",
          "Jonathan Kongbo",
          "Tyrell Ajian",
          "Jamin Davis",
          "Stephen Adegoke",
          "Luke Ancrum",
          "Marquill Osborne",
          "Ed Paris",
          "John Huggins",
          "Feleti Afemui",
          "Franklin Agbasimere"
         ],
         "xaxis": "x2",
         "yaxis": "y2"
        }
       ],
       "layout": {
        "autosize": true,
        "barmode": "relative",
        "font": {
         "color": "black",
         "size": 12
        },
        "height": 550,
        "legend": {
         "title": {
          "text": "Conference"
         },
         "tracegroupgap": 0
        },
        "template": {
         "data": {
          "bar": [
           {
            "error_x": {
             "color": "#2a3f5f"
            },
            "error_y": {
             "color": "#2a3f5f"
            },
            "marker": {
             "line": {
              "color": "#E5ECF6",
              "width": 0.5
             },
             "pattern": {
              "fillmode": "overlay",
              "size": 10,
              "solidity": 0.2
             }
            },
            "type": "bar"
           }
          ],
          "barpolar": [
           {
            "marker": {
             "line": {
              "color": "#E5ECF6",
              "width": 0.5
             },
             "pattern": {
              "fillmode": "overlay",
              "size": 10,
              "solidity": 0.2
             }
            },
            "type": "barpolar"
           }
          ],
          "carpet": [
           {
            "aaxis": {
             "endlinecolor": "#2a3f5f",
             "gridcolor": "white",
             "linecolor": "white",
             "minorgridcolor": "white",
             "startlinecolor": "#2a3f5f"
            },
            "baxis": {
             "endlinecolor": "#2a3f5f",
             "gridcolor": "white",
             "linecolor": "white",
             "minorgridcolor": "white",
             "startlinecolor": "#2a3f5f"
            },
            "type": "carpet"
           }
          ],
          "choropleth": [
           {
            "colorbar": {
             "outlinewidth": 0,
             "ticks": ""
            },
            "type": "choropleth"
           }
          ],
          "contour": [
           {
            "colorbar": {
             "outlinewidth": 0,
             "ticks": ""
            },
            "colorscale": [
             [
              0,
              "#0d0887"
             ],
             [
              0.1111111111111111,
              "#46039f"
             ],
             [
              0.2222222222222222,
              "#7201a8"
             ],
             [
              0.3333333333333333,
              "#9c179e"
             ],
             [
              0.4444444444444444,
              "#bd3786"
             ],
             [
              0.5555555555555556,
              "#d8576b"
             ],
             [
              0.6666666666666666,
              "#ed7953"
             ],
             [
              0.7777777777777778,
              "#fb9f3a"
             ],
             [
              0.8888888888888888,
              "#fdca26"
             ],
             [
              1,
              "#f0f921"
             ]
            ],
            "type": "contour"
           }
          ],
          "contourcarpet": [
           {
            "colorbar": {
             "outlinewidth": 0,
             "ticks": ""
            },
            "type": "contourcarpet"
           }
          ],
          "heatmap": [
           {
            "colorbar": {
             "outlinewidth": 0,
             "ticks": ""
            },
            "colorscale": [
             [
              0,
              "#0d0887"
             ],
             [
              0.1111111111111111,
              "#46039f"
             ],
             [
              0.2222222222222222,
              "#7201a8"
             ],
             [
              0.3333333333333333,
              "#9c179e"
             ],
             [
              0.4444444444444444,
              "#bd3786"
             ],
             [
              0.5555555555555556,
              "#d8576b"
             ],
             [
              0.6666666666666666,
              "#ed7953"
             ],
             [
              0.7777777777777778,
              "#fb9f3a"
             ],
             [
              0.8888888888888888,
              "#fdca26"
             ],
             [
              1,
              "#f0f921"
             ]
            ],
            "type": "heatmap"
           }
          ],
          "heatmapgl": [
           {
            "colorbar": {
             "outlinewidth": 0,
             "ticks": ""
            },
            "colorscale": [
             [
              0,
              "#0d0887"
             ],
             [
              0.1111111111111111,
              "#46039f"
             ],
             [
              0.2222222222222222,
              "#7201a8"
             ],
             [
              0.3333333333333333,
              "#9c179e"
             ],
             [
              0.4444444444444444,
              "#bd3786"
             ],
             [
              0.5555555555555556,
              "#d8576b"
             ],
             [
              0.6666666666666666,
              "#ed7953"
             ],
             [
              0.7777777777777778,
              "#fb9f3a"
             ],
             [
              0.8888888888888888,
              "#fdca26"
             ],
             [
              1,
              "#f0f921"
             ]
            ],
            "type": "heatmapgl"
           }
          ],
          "histogram": [
           {
            "marker": {
             "pattern": {
              "fillmode": "overlay",
              "size": 10,
              "solidity": 0.2
             }
            },
            "type": "histogram"
           }
          ],
          "histogram2d": [
           {
            "colorbar": {
             "outlinewidth": 0,
             "ticks": ""
            },
            "colorscale": [
             [
              0,
              "#0d0887"
             ],
             [
              0.1111111111111111,
              "#46039f"
             ],
             [
              0.2222222222222222,
              "#7201a8"
             ],
             [
              0.3333333333333333,
              "#9c179e"
             ],
             [
              0.4444444444444444,
              "#bd3786"
             ],
             [
              0.5555555555555556,
              "#d8576b"
             ],
             [
              0.6666666666666666,
              "#ed7953"
             ],
             [
              0.7777777777777778,
              "#fb9f3a"
             ],
             [
              0.8888888888888888,
              "#fdca26"
             ],
             [
              1,
              "#f0f921"
             ]
            ],
            "type": "histogram2d"
           }
          ],
          "histogram2dcontour": [
           {
            "colorbar": {
             "outlinewidth": 0,
             "ticks": ""
            },
            "colorscale": [
             [
              0,
              "#0d0887"
             ],
             [
              0.1111111111111111,
              "#46039f"
             ],
             [
              0.2222222222222222,
              "#7201a8"
             ],
             [
              0.3333333333333333,
              "#9c179e"
             ],
             [
              0.4444444444444444,
              "#bd3786"
             ],
             [
              0.5555555555555556,
              "#d8576b"
             ],
             [
              0.6666666666666666,
              "#ed7953"
             ],
             [
              0.7777777777777778,
              "#fb9f3a"
             ],
             [
              0.8888888888888888,
              "#fdca26"
             ],
             [
              1,
              "#f0f921"
             ]
            ],
            "type": "histogram2dcontour"
           }
          ],
          "mesh3d": [
           {
            "colorbar": {
             "outlinewidth": 0,
             "ticks": ""
            },
            "type": "mesh3d"
           }
          ],
          "parcoords": [
           {
            "line": {
             "colorbar": {
              "outlinewidth": 0,
              "ticks": ""
             }
            },
            "type": "parcoords"
           }
          ],
          "pie": [
           {
            "automargin": true,
            "type": "pie"
           }
          ],
          "scatter": [
           {
            "fillpattern": {
             "fillmode": "overlay",
             "size": 10,
             "solidity": 0.2
            },
            "type": "scatter"
           }
          ],
          "scatter3d": [
           {
            "line": {
             "colorbar": {
              "outlinewidth": 0,
              "ticks": ""
             }
            },
            "marker": {
             "colorbar": {
              "outlinewidth": 0,
              "ticks": ""
             }
            },
            "type": "scatter3d"
           }
          ],
          "scattercarpet": [
           {
            "marker": {
             "colorbar": {
              "outlinewidth": 0,
              "ticks": ""
             }
            },
            "type": "scattercarpet"
           }
          ],
          "scattergeo": [
           {
            "marker": {
             "colorbar": {
              "outlinewidth": 0,
              "ticks": ""
             }
            },
            "type": "scattergeo"
           }
          ],
          "scattergl": [
           {
            "marker": {
             "colorbar": {
              "outlinewidth": 0,
              "ticks": ""
             }
            },
            "type": "scattergl"
           }
          ],
          "scattermapbox": [
           {
            "marker": {
             "colorbar": {
              "outlinewidth": 0,
              "ticks": ""
             }
            },
            "type": "scattermapbox"
           }
          ],
          "scatterpolar": [
           {
            "marker": {
             "colorbar": {
              "outlinewidth": 0,
              "ticks": ""
             }
            },
            "type": "scatterpolar"
           }
          ],
          "scatterpolargl": [
           {
            "marker": {
             "colorbar": {
              "outlinewidth": 0,
              "ticks": ""
             }
            },
            "type": "scatterpolargl"
           }
          ],
          "scatterternary": [
           {
            "marker": {
             "colorbar": {
              "outlinewidth": 0,
              "ticks": ""
             }
            },
            "type": "scatterternary"
           }
          ],
          "surface": [
           {
            "colorbar": {
             "outlinewidth": 0,
             "ticks": ""
            },
            "colorscale": [
             [
              0,
              "#0d0887"
             ],
             [
              0.1111111111111111,
              "#46039f"
             ],
             [
              0.2222222222222222,
              "#7201a8"
             ],
             [
              0.3333333333333333,
              "#9c179e"
             ],
             [
              0.4444444444444444,
              "#bd3786"
             ],
             [
              0.5555555555555556,
              "#d8576b"
             ],
             [
              0.6666666666666666,
              "#ed7953"
             ],
             [
              0.7777777777777778,
              "#fb9f3a"
             ],
             [
              0.8888888888888888,
              "#fdca26"
             ],
             [
              1,
              "#f0f921"
             ]
            ],
            "type": "surface"
           }
          ],
          "table": [
           {
            "cells": {
             "fill": {
              "color": "#EBF0F8"
             },
             "line": {
              "color": "white"
             }
            },
            "header": {
             "fill": {
              "color": "#C8D4E3"
             },
             "line": {
              "color": "white"
             }
            },
            "type": "table"
           }
          ]
         },
         "layout": {
          "annotationdefaults": {
           "arrowcolor": "#2a3f5f",
           "arrowhead": 0,
           "arrowwidth": 1
          },
          "autotypenumbers": "strict",
          "coloraxis": {
           "colorbar": {
            "outlinewidth": 0,
            "ticks": ""
           }
          },
          "colorscale": {
           "diverging": [
            [
             0,
             "#8e0152"
            ],
            [
             0.1,
             "#c51b7d"
            ],
            [
             0.2,
             "#de77ae"
            ],
            [
             0.3,
             "#f1b6da"
            ],
            [
             0.4,
             "#fde0ef"
            ],
            [
             0.5,
             "#f7f7f7"
            ],
            [
             0.6,
             "#e6f5d0"
            ],
            [
             0.7,
             "#b8e186"
            ],
            [
             0.8,
             "#7fbc41"
            ],
            [
             0.9,
             "#4d9221"
            ],
            [
             1,
             "#276419"
            ]
           ],
           "sequential": [
            [
             0,
             "#0d0887"
            ],
            [
             0.1111111111111111,
             "#46039f"
            ],
            [
             0.2222222222222222,
             "#7201a8"
            ],
            [
             0.3333333333333333,
             "#9c179e"
            ],
            [
             0.4444444444444444,
             "#bd3786"
            ],
            [
             0.5555555555555556,
             "#d8576b"
            ],
            [
             0.6666666666666666,
             "#ed7953"
            ],
            [
             0.7777777777777778,
             "#fb9f3a"
            ],
            [
             0.8888888888888888,
             "#fdca26"
            ],
            [
             1,
             "#f0f921"
            ]
           ],
           "sequentialminus": [
            [
             0,
             "#0d0887"
            ],
            [
             0.1111111111111111,
             "#46039f"
            ],
            [
             0.2222222222222222,
             "#7201a8"
            ],
            [
             0.3333333333333333,
             "#9c179e"
            ],
            [
             0.4444444444444444,
             "#bd3786"
            ],
            [
             0.5555555555555556,
             "#d8576b"
            ],
            [
             0.6666666666666666,
             "#ed7953"
            ],
            [
             0.7777777777777778,
             "#fb9f3a"
            ],
            [
             0.8888888888888888,
             "#fdca26"
            ],
            [
             1,
             "#f0f921"
            ]
           ]
          },
          "colorway": [
           "#636efa",
           "#EF553B",
           "#00cc96",
           "#ab63fa",
           "#FFA15A",
           "#19d3f3",
           "#FF6692",
           "#B6E880",
           "#FF97FF",
           "#FECB52"
          ],
          "font": {
           "color": "#2a3f5f"
          },
          "geo": {
           "bgcolor": "white",
           "lakecolor": "white",
           "landcolor": "#E5ECF6",
           "showlakes": true,
           "showland": true,
           "subunitcolor": "white"
          },
          "hoverlabel": {
           "align": "left"
          },
          "hovermode": "closest",
          "mapbox": {
           "style": "light"
          },
          "paper_bgcolor": "white",
          "plot_bgcolor": "#E5ECF6",
          "polar": {
           "angularaxis": {
            "gridcolor": "white",
            "linecolor": "white",
            "ticks": ""
           },
           "bgcolor": "#E5ECF6",
           "radialaxis": {
            "gridcolor": "white",
            "linecolor": "white",
            "ticks": ""
           }
          },
          "scene": {
           "xaxis": {
            "backgroundcolor": "#E5ECF6",
            "gridcolor": "white",
            "gridwidth": 2,
            "linecolor": "white",
            "showbackground": true,
            "ticks": "",
            "zerolinecolor": "white"
           },
           "yaxis": {
            "backgroundcolor": "#E5ECF6",
            "gridcolor": "white",
            "gridwidth": 2,
            "linecolor": "white",
            "showbackground": true,
            "ticks": "",
            "zerolinecolor": "white"
           },
           "zaxis": {
            "backgroundcolor": "#E5ECF6",
            "gridcolor": "white",
            "gridwidth": 2,
            "linecolor": "white",
            "showbackground": true,
            "ticks": "",
            "zerolinecolor": "white"
           }
          },
          "shapedefaults": {
           "line": {
            "color": "#2a3f5f"
           }
          },
          "ternary": {
           "aaxis": {
            "gridcolor": "white",
            "linecolor": "white",
            "ticks": ""
           },
           "baxis": {
            "gridcolor": "white",
            "linecolor": "white",
            "ticks": ""
           },
           "bgcolor": "#E5ECF6",
           "caxis": {
            "gridcolor": "white",
            "linecolor": "white",
            "ticks": ""
           }
          },
          "title": {
           "x": 0.05
          },
          "xaxis": {
           "automargin": true,
           "gridcolor": "white",
           "linecolor": "white",
           "ticks": "",
           "title": {
            "standoff": 15
           },
           "zerolinecolor": "white",
           "zerolinewidth": 2
          },
          "yaxis": {
           "automargin": true,
           "gridcolor": "white",
           "linecolor": "white",
           "ticks": "",
           "title": {
            "standoff": 15
           },
           "zerolinecolor": "white",
           "zerolinewidth": 2
          }
         }
        },
        "title": {
         "font": {
          "size": 35
         },
         "text": "All Players With Tackles",
         "x": 0.5
        },
        "xaxis": {
         "anchor": "y",
         "domain": [
          0,
          1
         ],
         "title": {
          "font": {
           "color": "black",
           "size": 25
          },
          "standoff": 10,
          "text": "Player's Name"
         }
        },
        "xaxis2": {
         "anchor": "y2",
         "domain": [
          0,
          1
         ],
         "matches": "x",
         "showgrid": true,
         "showticklabels": false
        },
        "yaxis": {
         "anchor": "x",
         "domain": [
          0,
          0.7326
         ],
         "title": {
          "font": {
           "color": "black",
           "size": 25
          },
          "standoff": 10,
          "text": "Tackles"
         }
        },
        "yaxis2": {
         "anchor": "x2",
         "domain": [
          0.7426,
          1
         ],
         "matches": "y2",
         "showgrid": false,
         "showline": false,
         "showticklabels": false,
         "ticks": ""
        }
       }
      },
      "text/html": [
       "<div>                            <div id=\"f39d4503-ddb4-4470-950c-c648091e3d65\" class=\"plotly-graph-div\" style=\"height:550px; width:100%;\"></div>            <script type=\"text/javascript\">                require([\"plotly\"], function(Plotly) {                    window.PLOTLYENV=window.PLOTLYENV || {};                                    if (document.getElementById(\"f39d4503-ddb4-4470-950c-c648091e3d65\")) {                    Plotly.newPlot(                        \"f39d4503-ddb4-4470-950c-c648091e3d65\",                        [{\"alignmentgroup\":\"True\",\"bingroup\":\"x\",\"histfunc\":\"sum\",\"hovertemplate\":\"Conference=Pac-12\\u003cbr\\u003ePlayer's Name=%{x}\\u003cbr\\u003esum of Tackles=%{y}\\u003cextra\\u003e\\u003c\\u002fextra\\u003e\",\"legendgroup\":\"Pac-12\",\"marker\":{\"color\":\"green\",\"pattern\":{\"shape\":\"\"}},\"name\":\"Pac-12\",\"offsetgroup\":\"Pac-12\",\"orientation\":\"v\",\"showlegend\":true,\"x\":[\"Ben Burr-Kirven\",\"Evan Weaver\",\"Jordan Kunaszyk\",\"Adarius Pickett\",\"Colin Schooler\",\"Cody Barton\",\"Troy Dye\",\"Chase Hansen\",\"Nate Landman\",\"Sean Barton\",\"Krys Barnes\",\"Shemar Smith\",\"Jahad Woods\",\"Merlin Robertson\",\"Skyler Thomas\",\"Rick Gamboa\",\"Corrion Ballard\",\"Quentin Lake\",\"Jalen Thompson\",\"Kaulana Apelu\",\"Justin Hollins\",\"Paulson Adebo\",\"Chase Lucas\",\"Drew Lewis\",\"Nick Pickett\",\"Taylor Rapp\",\"Marquise Blair\",\"Byron Murphy\",\"Ajene Harris\",\"Marvell Tell III\",\"Thomas Graham Jr.\",\"Greg Gaines\",\"Ashtyn Davis\",\"Ugo Amadi\",\"Jarrius Wallace\",\"Malik Antoine\",\"Deommodore Lenoir\",\"Frank Buncom\",\"Kobe Williams\",\"Bradlee Anae\",\"Darnay Holmes\",\"Julian Blackmon\",\"Camryn Bynum\",\"Isaiah Langley\",\"Keisean Lucier-South\",\"Shawn Wilson\",\"Darrien Molton\",\"Nick Fisher\",\"Aashari Crosswell\",\"Javelin Guidry\",\"Marcus Strong\",\"Jevon Holland\",\"Jaylon Johnson\",\"Evan Worthington\",\"Delrick Abrams Jr.\",\"Elijah Gates\",\"Scottie Young Jr.\",\"Francis Bernard\",\"Dante Wigley\",\"Nate Meadors\",\"Joey Alfieri\",\"Elu Aydon\",\"Alameen Murphy\",\"Jaylinn Hawkins\",\"Traveon Beck\",\"Elijah Hicks\",\"Willie Taylor\",\"Terin Adams\",\"Thomas Booker\",\"Shannon Forman\",\"Jordan Miller\",\"Derrion Rakestraw\",\"Hauati Pututau\",\"Martin Andrus\",\"Josh Drayden\",\"Terrell Burgess\",\"Israel Antwine\",\"Cam Phillips\",\"Lee Anderson III\",\"Deion Singleton\",\"Dasmond Tautalatasi\",\"Pita Tonga\",\"John McCartan\",\"Troy Young\",\"Misiona Aiolupotea-Pei\",\"Kedron Williams\",\"Jake Ashton\",\"Popo Aumavae\",\"Philip Afia\",\"Cameron Goode\",\"Daniel Arias\",\"Michael Alfieri\",\"Salvon Ahmed\",\"Jordan McMillan\",\"Brandon Aiyuk\",\"Brandon Arconado\",\"Biaggio Ali Walsh\",\"Cody Anderson\",\"Nick Alftin\"],\"xaxis\":\"x\",\"y\":[176,156,147,123,119,116,114,114,104,91,85,85,82,77,76,71,70,67,66,65,64,63,62,60,59,59,59,58,58,56,56,55,55,54,53,52,52,51,50,50,48,48,48,46,46,44,44,43,43,42,42,42,41,40,40,39,38,38,37,37,37,36,35,33,32,31,30,30,29,26,26,24,19,18,18,16,15,14,14,14,13,12,11,10,8,7,5,5,3,3,3,2,2,1,1,1,1,1,1],\"yaxis\":\"y\",\"type\":\"histogram\"},{\"alignmentgroup\":\"True\",\"hovertemplate\":\"Conference=Pac-12\\u003cbr\\u003ePlayer's Name=%{x}\\u003cextra\\u003e\\u003c\\u002fextra\\u003e\",\"legendgroup\":\"Pac-12\",\"marker\":{\"color\":\"green\"},\"name\":\"Pac-12\",\"offsetgroup\":\"Pac-12\",\"scalegroup\":\"x\",\"showlegend\":false,\"x\":[\"Ben Burr-Kirven\",\"Evan Weaver\",\"Jordan Kunaszyk\",\"Adarius Pickett\",\"Colin Schooler\",\"Cody Barton\",\"Troy Dye\",\"Chase Hansen\",\"Nate Landman\",\"Sean Barton\",\"Krys Barnes\",\"Shemar Smith\",\"Jahad Woods\",\"Merlin Robertson\",\"Skyler Thomas\",\"Rick Gamboa\",\"Corrion Ballard\",\"Quentin Lake\",\"Jalen Thompson\",\"Kaulana Apelu\",\"Justin Hollins\",\"Paulson Adebo\",\"Chase Lucas\",\"Drew Lewis\",\"Nick Pickett\",\"Taylor Rapp\",\"Marquise Blair\",\"Byron Murphy\",\"Ajene Harris\",\"Marvell Tell III\",\"Thomas Graham Jr.\",\"Greg Gaines\",\"Ashtyn Davis\",\"Ugo Amadi\",\"Jarrius Wallace\",\"Malik Antoine\",\"Deommodore Lenoir\",\"Frank Buncom\",\"Kobe Williams\",\"Bradlee Anae\",\"Darnay Holmes\",\"Julian Blackmon\",\"Camryn Bynum\",\"Isaiah Langley\",\"Keisean Lucier-South\",\"Shawn Wilson\",\"Darrien Molton\",\"Nick Fisher\",\"Aashari Crosswell\",\"Javelin Guidry\",\"Marcus Strong\",\"Jevon Holland\",\"Jaylon Johnson\",\"Evan Worthington\",\"Delrick Abrams Jr.\",\"Elijah Gates\",\"Scottie Young Jr.\",\"Francis Bernard\",\"Dante Wigley\",\"Nate Meadors\",\"Joey Alfieri\",\"Elu Aydon\",\"Alameen Murphy\",\"Jaylinn Hawkins\",\"Traveon Beck\",\"Elijah Hicks\",\"Willie Taylor\",\"Terin Adams\",\"Thomas Booker\",\"Shannon Forman\",\"Jordan Miller\",\"Derrion Rakestraw\",\"Hauati Pututau\",\"Martin Andrus\",\"Josh Drayden\",\"Terrell Burgess\",\"Israel Antwine\",\"Cam Phillips\",\"Lee Anderson III\",\"Deion Singleton\",\"Dasmond Tautalatasi\",\"Pita Tonga\",\"John McCartan\",\"Troy Young\",\"Misiona Aiolupotea-Pei\",\"Kedron Williams\",\"Jake Ashton\",\"Popo Aumavae\",\"Philip Afia\",\"Cameron Goode\",\"Daniel Arias\",\"Michael Alfieri\",\"Salvon Ahmed\",\"Jordan McMillan\",\"Brandon Aiyuk\",\"Brandon Arconado\",\"Biaggio Ali Walsh\",\"Cody Anderson\",\"Nick Alftin\"],\"xaxis\":\"x2\",\"yaxis\":\"y2\",\"type\":\"violin\"},{\"alignmentgroup\":\"True\",\"bingroup\":\"x\",\"histfunc\":\"sum\",\"hovertemplate\":\"Conference=SEC\\u003cbr\\u003ePlayer's Name=%{x}\\u003cbr\\u003esum of Tackles=%{y}\\u003cextra\\u003e\\u003c\\u002fextra\\u003e\",\"legendgroup\":\"SEC\",\"marker\":{\"color\":\"orange\",\"pattern\":{\"shape\":\"\"}},\"name\":\"SEC\",\"offsetgroup\":\"SEC\",\"orientation\":\"v\",\"showlegend\":true,\"x\":[\"Jordan Griffin\",\"Johnathan Abram\",\"Jacob Phillips\",\"Erroll Thompson\",\"Darius West\",\"Ladarius Wiley\",\"Mike Edwards\",\"Dre Greenlaw\",\"Otaro Alaka\",\"Deionte Thompson\",\"Zedrick Woods\",\"Grant Delpit\",\"Darrell Williams\",\"Daniel Thomas\",\"Richard LeCounte III\",\"Xavier McKinney\",\"Sherrod Greene\",\"Chauncey Gardner-Johnson\",\"Mack Wilson\",\"Terez Hall\",\"Tyrel Dodson\",\"Donovan Wilson\",\"J.R. Reed\",\"Jeremiah Dinson\",\"Joejuan Williams\",\"Saivion Smith\",\"Kyle Phillips\",\"Michael Divinity Jr.\",\"Tae Crowder\",\"DeShawn Capers-Smith\",\"Darrin Kirkland Jr.\",\"Anfernee Jennings\",\"Noah Igbinoghene\",\"Donovan Stiner\",\"Willie Gay Jr.\",\"Keidron Smith\",\"McTelvin Agim\",\"Shyheim Carter\",\"Cameron Dantzler\",\"Javaris Davis\",\"Brad Stewart\",\"Deandre Baker\",\"John Battle\",\"C.J. Henderson\",\"Derrick Baity\",\"Adam Sparks\",\"Micah Abernathy\",\"Ryan Pulley\",\"Patrick Surtain II\",\"Vernon Dasher\",\"Christian Holmes\",\"JaCoby Stevens\",\"Rashad Fenton\",\"Larry Pryor\",\"Bryce Thompson\",\"Allan George\",\"Kendarius Webster\",\"Shy Tuttle\",\"Greedy Williams\",\"Jamyest Williams\",\"Charles Oliver\",\"Kary Vincent Jr.\",\"Todd Harris Jr.\",\"Cam Hilton\",\"DeMarkus Acy\",\"Frank Coppet\",\"Jamel Dean\",\"Edwin Alexander\",\"Dare Odeyingbo\",\"Trey Dean III\",\"Christian Tutt\",\"Louis Vecchio\",\"Kristian Fulton\",\"Terrence Alexander\",\"Tyrique McGhee\",\"Jamien Sherwood\",\"Lonnie Johnson\",\"Maurice Smitherman\",\"C.J. Morgan\",\"Trevon Diggs\",\"Fletcher Adams\",\"Big Cat Bryant\",\"Israel Mukuamu\",\"C.J. Moore\",\"Smoke Monday\",\"Randall Haynie\",\"Ventrell Miller\",\"Leon O'Neal Jr.\",\"Brian Cole II\",\"Shawn Shamburger\",\"Jonathan Kongbo\",\"Tyrell Ajian\",\"Jamin Davis\",\"Stephen Adegoke\",\"Luke Ancrum\",\"Marquill Osborne\",\"Ed Paris\",\"John Huggins\",\"Feleti Afemui\",\"Franklin Agbasimere\"],\"xaxis\":\"x\",\"y\":[119,99,87,87,86,83,82,80,79,79,79,74,74,74,74,73,73,71,71,70,70,66,66,64,61,60,55,54,53,52,51,50,50,49,48,47,45,44,43,41,41,40,39,38,38,38,38,37,37,36,35,35,34,34,34,33,33,33,33,32,31,31,31,31,30,30,30,28,28,26,25,24,24,23,23,23,23,23,20,20,20,18,17,17,15,15,15,14,11,11,11,10,10,9,8,8,4,3,2,2],\"yaxis\":\"y\",\"type\":\"histogram\"},{\"alignmentgroup\":\"True\",\"hovertemplate\":\"Conference=SEC\\u003cbr\\u003ePlayer's Name=%{x}\\u003cextra\\u003e\\u003c\\u002fextra\\u003e\",\"legendgroup\":\"SEC\",\"marker\":{\"color\":\"orange\"},\"name\":\"SEC\",\"offsetgroup\":\"SEC\",\"scalegroup\":\"x\",\"showlegend\":false,\"x\":[\"Jordan Griffin\",\"Johnathan Abram\",\"Jacob Phillips\",\"Erroll Thompson\",\"Darius West\",\"Ladarius Wiley\",\"Mike Edwards\",\"Dre Greenlaw\",\"Otaro Alaka\",\"Deionte Thompson\",\"Zedrick Woods\",\"Grant Delpit\",\"Darrell Williams\",\"Daniel Thomas\",\"Richard LeCounte III\",\"Xavier McKinney\",\"Sherrod Greene\",\"Chauncey Gardner-Johnson\",\"Mack Wilson\",\"Terez Hall\",\"Tyrel Dodson\",\"Donovan Wilson\",\"J.R. Reed\",\"Jeremiah Dinson\",\"Joejuan Williams\",\"Saivion Smith\",\"Kyle Phillips\",\"Michael Divinity Jr.\",\"Tae Crowder\",\"DeShawn Capers-Smith\",\"Darrin Kirkland Jr.\",\"Anfernee Jennings\",\"Noah Igbinoghene\",\"Donovan Stiner\",\"Willie Gay Jr.\",\"Keidron Smith\",\"McTelvin Agim\",\"Shyheim Carter\",\"Cameron Dantzler\",\"Javaris Davis\",\"Brad Stewart\",\"Deandre Baker\",\"John Battle\",\"C.J. Henderson\",\"Derrick Baity\",\"Adam Sparks\",\"Micah Abernathy\",\"Ryan Pulley\",\"Patrick Surtain II\",\"Vernon Dasher\",\"Christian Holmes\",\"JaCoby Stevens\",\"Rashad Fenton\",\"Larry Pryor\",\"Bryce Thompson\",\"Allan George\",\"Kendarius Webster\",\"Shy Tuttle\",\"Greedy Williams\",\"Jamyest Williams\",\"Charles Oliver\",\"Kary Vincent Jr.\",\"Todd Harris Jr.\",\"Cam Hilton\",\"DeMarkus Acy\",\"Frank Coppet\",\"Jamel Dean\",\"Edwin Alexander\",\"Dare Odeyingbo\",\"Trey Dean III\",\"Christian Tutt\",\"Louis Vecchio\",\"Kristian Fulton\",\"Terrence Alexander\",\"Tyrique McGhee\",\"Jamien Sherwood\",\"Lonnie Johnson\",\"Maurice Smitherman\",\"C.J. Morgan\",\"Trevon Diggs\",\"Fletcher Adams\",\"Big Cat Bryant\",\"Israel Mukuamu\",\"C.J. Moore\",\"Smoke Monday\",\"Randall Haynie\",\"Ventrell Miller\",\"Leon O'Neal Jr.\",\"Brian Cole II\",\"Shawn Shamburger\",\"Jonathan Kongbo\",\"Tyrell Ajian\",\"Jamin Davis\",\"Stephen Adegoke\",\"Luke Ancrum\",\"Marquill Osborne\",\"Ed Paris\",\"John Huggins\",\"Feleti Afemui\",\"Franklin Agbasimere\"],\"xaxis\":\"x2\",\"yaxis\":\"y2\",\"type\":\"violin\"}],                        {\"template\":{\"data\":{\"histogram2dcontour\":[{\"type\":\"histogram2dcontour\",\"colorbar\":{\"outlinewidth\":0,\"ticks\":\"\"},\"colorscale\":[[0.0,\"#0d0887\"],[0.1111111111111111,\"#46039f\"],[0.2222222222222222,\"#7201a8\"],[0.3333333333333333,\"#9c179e\"],[0.4444444444444444,\"#bd3786\"],[0.5555555555555556,\"#d8576b\"],[0.6666666666666666,\"#ed7953\"],[0.7777777777777778,\"#fb9f3a\"],[0.8888888888888888,\"#fdca26\"],[1.0,\"#f0f921\"]]}],\"choropleth\":[{\"type\":\"choropleth\",\"colorbar\":{\"outlinewidth\":0,\"ticks\":\"\"}}],\"histogram2d\":[{\"type\":\"histogram2d\",\"colorbar\":{\"outlinewidth\":0,\"ticks\":\"\"},\"colorscale\":[[0.0,\"#0d0887\"],[0.1111111111111111,\"#46039f\"],[0.2222222222222222,\"#7201a8\"],[0.3333333333333333,\"#9c179e\"],[0.4444444444444444,\"#bd3786\"],[0.5555555555555556,\"#d8576b\"],[0.6666666666666666,\"#ed7953\"],[0.7777777777777778,\"#fb9f3a\"],[0.8888888888888888,\"#fdca26\"],[1.0,\"#f0f921\"]]}],\"heatmap\":[{\"type\":\"heatmap\",\"colorbar\":{\"outlinewidth\":0,\"ticks\":\"\"},\"colorscale\":[[0.0,\"#0d0887\"],[0.1111111111111111,\"#46039f\"],[0.2222222222222222,\"#7201a8\"],[0.3333333333333333,\"#9c179e\"],[0.4444444444444444,\"#bd3786\"],[0.5555555555555556,\"#d8576b\"],[0.6666666666666666,\"#ed7953\"],[0.7777777777777778,\"#fb9f3a\"],[0.8888888888888888,\"#fdca26\"],[1.0,\"#f0f921\"]]}],\"heatmapgl\":[{\"type\":\"heatmapgl\",\"colorbar\":{\"outlinewidth\":0,\"ticks\":\"\"},\"colorscale\":[[0.0,\"#0d0887\"],[0.1111111111111111,\"#46039f\"],[0.2222222222222222,\"#7201a8\"],[0.3333333333333333,\"#9c179e\"],[0.4444444444444444,\"#bd3786\"],[0.5555555555555556,\"#d8576b\"],[0.6666666666666666,\"#ed7953\"],[0.7777777777777778,\"#fb9f3a\"],[0.8888888888888888,\"#fdca26\"],[1.0,\"#f0f921\"]]}],\"contourcarpet\":[{\"type\":\"contourcarpet\",\"colorbar\":{\"outlinewidth\":0,\"ticks\":\"\"}}],\"contour\":[{\"type\":\"contour\",\"colorbar\":{\"outlinewidth\":0,\"ticks\":\"\"},\"colorscale\":[[0.0,\"#0d0887\"],[0.1111111111111111,\"#46039f\"],[0.2222222222222222,\"#7201a8\"],[0.3333333333333333,\"#9c179e\"],[0.4444444444444444,\"#bd3786\"],[0.5555555555555556,\"#d8576b\"],[0.6666666666666666,\"#ed7953\"],[0.7777777777777778,\"#fb9f3a\"],[0.8888888888888888,\"#fdca26\"],[1.0,\"#f0f921\"]]}],\"surface\":[{\"type\":\"surface\",\"colorbar\":{\"outlinewidth\":0,\"ticks\":\"\"},\"colorscale\":[[0.0,\"#0d0887\"],[0.1111111111111111,\"#46039f\"],[0.2222222222222222,\"#7201a8\"],[0.3333333333333333,\"#9c179e\"],[0.4444444444444444,\"#bd3786\"],[0.5555555555555556,\"#d8576b\"],[0.6666666666666666,\"#ed7953\"],[0.7777777777777778,\"#fb9f3a\"],[0.8888888888888888,\"#fdca26\"],[1.0,\"#f0f921\"]]}],\"mesh3d\":[{\"type\":\"mesh3d\",\"colorbar\":{\"outlinewidth\":0,\"ticks\":\"\"}}],\"scatter\":[{\"fillpattern\":{\"fillmode\":\"overlay\",\"size\":10,\"solidity\":0.2},\"type\":\"scatter\"}],\"parcoords\":[{\"type\":\"parcoords\",\"line\":{\"colorbar\":{\"outlinewidth\":0,\"ticks\":\"\"}}}],\"scatterpolargl\":[{\"type\":\"scatterpolargl\",\"marker\":{\"colorbar\":{\"outlinewidth\":0,\"ticks\":\"\"}}}],\"bar\":[{\"error_x\":{\"color\":\"#2a3f5f\"},\"error_y\":{\"color\":\"#2a3f5f\"},\"marker\":{\"line\":{\"color\":\"#E5ECF6\",\"width\":0.5},\"pattern\":{\"fillmode\":\"overlay\",\"size\":10,\"solidity\":0.2}},\"type\":\"bar\"}],\"scattergeo\":[{\"type\":\"scattergeo\",\"marker\":{\"colorbar\":{\"outlinewidth\":0,\"ticks\":\"\"}}}],\"scatterpolar\":[{\"type\":\"scatterpolar\",\"marker\":{\"colorbar\":{\"outlinewidth\":0,\"ticks\":\"\"}}}],\"histogram\":[{\"marker\":{\"pattern\":{\"fillmode\":\"overlay\",\"size\":10,\"solidity\":0.2}},\"type\":\"histogram\"}],\"scattergl\":[{\"type\":\"scattergl\",\"marker\":{\"colorbar\":{\"outlinewidth\":0,\"ticks\":\"\"}}}],\"scatter3d\":[{\"type\":\"scatter3d\",\"line\":{\"colorbar\":{\"outlinewidth\":0,\"ticks\":\"\"}},\"marker\":{\"colorbar\":{\"outlinewidth\":0,\"ticks\":\"\"}}}],\"scattermapbox\":[{\"type\":\"scattermapbox\",\"marker\":{\"colorbar\":{\"outlinewidth\":0,\"ticks\":\"\"}}}],\"scatterternary\":[{\"type\":\"scatterternary\",\"marker\":{\"colorbar\":{\"outlinewidth\":0,\"ticks\":\"\"}}}],\"scattercarpet\":[{\"type\":\"scattercarpet\",\"marker\":{\"colorbar\":{\"outlinewidth\":0,\"ticks\":\"\"}}}],\"carpet\":[{\"aaxis\":{\"endlinecolor\":\"#2a3f5f\",\"gridcolor\":\"white\",\"linecolor\":\"white\",\"minorgridcolor\":\"white\",\"startlinecolor\":\"#2a3f5f\"},\"baxis\":{\"endlinecolor\":\"#2a3f5f\",\"gridcolor\":\"white\",\"linecolor\":\"white\",\"minorgridcolor\":\"white\",\"startlinecolor\":\"#2a3f5f\"},\"type\":\"carpet\"}],\"table\":[{\"cells\":{\"fill\":{\"color\":\"#EBF0F8\"},\"line\":{\"color\":\"white\"}},\"header\":{\"fill\":{\"color\":\"#C8D4E3\"},\"line\":{\"color\":\"white\"}},\"type\":\"table\"}],\"barpolar\":[{\"marker\":{\"line\":{\"color\":\"#E5ECF6\",\"width\":0.5},\"pattern\":{\"fillmode\":\"overlay\",\"size\":10,\"solidity\":0.2}},\"type\":\"barpolar\"}],\"pie\":[{\"automargin\":true,\"type\":\"pie\"}]},\"layout\":{\"autotypenumbers\":\"strict\",\"colorway\":[\"#636efa\",\"#EF553B\",\"#00cc96\",\"#ab63fa\",\"#FFA15A\",\"#19d3f3\",\"#FF6692\",\"#B6E880\",\"#FF97FF\",\"#FECB52\"],\"font\":{\"color\":\"#2a3f5f\"},\"hovermode\":\"closest\",\"hoverlabel\":{\"align\":\"left\"},\"paper_bgcolor\":\"white\",\"plot_bgcolor\":\"#E5ECF6\",\"polar\":{\"bgcolor\":\"#E5ECF6\",\"angularaxis\":{\"gridcolor\":\"white\",\"linecolor\":\"white\",\"ticks\":\"\"},\"radialaxis\":{\"gridcolor\":\"white\",\"linecolor\":\"white\",\"ticks\":\"\"}},\"ternary\":{\"bgcolor\":\"#E5ECF6\",\"aaxis\":{\"gridcolor\":\"white\",\"linecolor\":\"white\",\"ticks\":\"\"},\"baxis\":{\"gridcolor\":\"white\",\"linecolor\":\"white\",\"ticks\":\"\"},\"caxis\":{\"gridcolor\":\"white\",\"linecolor\":\"white\",\"ticks\":\"\"}},\"coloraxis\":{\"colorbar\":{\"outlinewidth\":0,\"ticks\":\"\"}},\"colorscale\":{\"sequential\":[[0.0,\"#0d0887\"],[0.1111111111111111,\"#46039f\"],[0.2222222222222222,\"#7201a8\"],[0.3333333333333333,\"#9c179e\"],[0.4444444444444444,\"#bd3786\"],[0.5555555555555556,\"#d8576b\"],[0.6666666666666666,\"#ed7953\"],[0.7777777777777778,\"#fb9f3a\"],[0.8888888888888888,\"#fdca26\"],[1.0,\"#f0f921\"]],\"sequentialminus\":[[0.0,\"#0d0887\"],[0.1111111111111111,\"#46039f\"],[0.2222222222222222,\"#7201a8\"],[0.3333333333333333,\"#9c179e\"],[0.4444444444444444,\"#bd3786\"],[0.5555555555555556,\"#d8576b\"],[0.6666666666666666,\"#ed7953\"],[0.7777777777777778,\"#fb9f3a\"],[0.8888888888888888,\"#fdca26\"],[1.0,\"#f0f921\"]],\"diverging\":[[0,\"#8e0152\"],[0.1,\"#c51b7d\"],[0.2,\"#de77ae\"],[0.3,\"#f1b6da\"],[0.4,\"#fde0ef\"],[0.5,\"#f7f7f7\"],[0.6,\"#e6f5d0\"],[0.7,\"#b8e186\"],[0.8,\"#7fbc41\"],[0.9,\"#4d9221\"],[1,\"#276419\"]]},\"xaxis\":{\"gridcolor\":\"white\",\"linecolor\":\"white\",\"ticks\":\"\",\"title\":{\"standoff\":15},\"zerolinecolor\":\"white\",\"automargin\":true,\"zerolinewidth\":2},\"yaxis\":{\"gridcolor\":\"white\",\"linecolor\":\"white\",\"ticks\":\"\",\"title\":{\"standoff\":15},\"zerolinecolor\":\"white\",\"automargin\":true,\"zerolinewidth\":2},\"scene\":{\"xaxis\":{\"backgroundcolor\":\"#E5ECF6\",\"gridcolor\":\"white\",\"linecolor\":\"white\",\"showbackground\":true,\"ticks\":\"\",\"zerolinecolor\":\"white\",\"gridwidth\":2},\"yaxis\":{\"backgroundcolor\":\"#E5ECF6\",\"gridcolor\":\"white\",\"linecolor\":\"white\",\"showbackground\":true,\"ticks\":\"\",\"zerolinecolor\":\"white\",\"gridwidth\":2},\"zaxis\":{\"backgroundcolor\":\"#E5ECF6\",\"gridcolor\":\"white\",\"linecolor\":\"white\",\"showbackground\":true,\"ticks\":\"\",\"zerolinecolor\":\"white\",\"gridwidth\":2}},\"shapedefaults\":{\"line\":{\"color\":\"#2a3f5f\"}},\"annotationdefaults\":{\"arrowcolor\":\"#2a3f5f\",\"arrowhead\":0,\"arrowwidth\":1},\"geo\":{\"bgcolor\":\"white\",\"landcolor\":\"#E5ECF6\",\"subunitcolor\":\"white\",\"showland\":true,\"showlakes\":true,\"lakecolor\":\"white\"},\"title\":{\"x\":0.05},\"mapbox\":{\"style\":\"light\"}}},\"xaxis\":{\"anchor\":\"y\",\"domain\":[0.0,1.0],\"title\":{\"text\":\"Player's Name\",\"font\":{\"size\":25,\"color\":\"black\"},\"standoff\":10}},\"yaxis\":{\"anchor\":\"x\",\"domain\":[0.0,0.7326],\"title\":{\"text\":\"Tackles\",\"font\":{\"size\":25,\"color\":\"black\"},\"standoff\":10}},\"xaxis2\":{\"anchor\":\"y2\",\"domain\":[0.0,1.0],\"matches\":\"x\",\"showticklabels\":false,\"showgrid\":true},\"yaxis2\":{\"anchor\":\"x2\",\"domain\":[0.7426,1.0],\"matches\":\"y2\",\"showticklabels\":false,\"showline\":false,\"ticks\":\"\",\"showgrid\":false},\"legend\":{\"title\":{\"text\":\"Conference\"},\"tracegroupgap\":0},\"title\":{\"text\":\"All Players With Tackles\",\"font\":{\"size\":35},\"x\":0.5},\"barmode\":\"relative\",\"autosize\":true,\"height\":550,\"font\":{\"size\":12,\"color\":\"black\"}},                        {\"responsive\": true}                    ).then(function(){\n",
       "                            \n",
       "var gd = document.getElementById('f39d4503-ddb4-4470-950c-c648091e3d65');\n",
       "var x = new MutationObserver(function (mutations, observer) {{\n",
       "        var display = window.getComputedStyle(gd).display;\n",
       "        if (!display || display === 'none') {{\n",
       "            console.log([gd, 'removed!']);\n",
       "            Plotly.purge(gd);\n",
       "            observer.disconnect();\n",
       "        }}\n",
       "}});\n",
       "\n",
       "// Listen for the removal of the full notebook cells\n",
       "var notebookContainer = gd.closest('#notebook-container');\n",
       "if (notebookContainer) {{\n",
       "    x.observe(notebookContainer, {childList: true});\n",
       "}}\n",
       "\n",
       "// Listen for the clearing of the current output cell\n",
       "var outputEl = gd.closest('.output');\n",
       "if (outputEl) {{\n",
       "    x.observe(outputEl, {childList: true});\n",
       "}}\n",
       "\n",
       "                        })                };                });            </script>        </div>"
      ]
     },
     "metadata": {},
     "output_type": "display_data"
    }
   ],
   "source": [
    "all_tackles = tackles[tackles['Tot'] > 0]\n",
    "\n",
    "fig = px.histogram(x=all_tackles['Player'], y=all_tackles['Tot'], color=all_tackles['Conference'], marginal=\"violin\", labels={'x': \"Player's Name\", 'y': 'Tackles', 'color':'Conference'}, title='All Players With Tackles', color_discrete_sequence=['green', 'orange'])\n",
    "\n",
    "fig.update_layout(autosize=True, height=550, title={'text': 'All Players With Tackles', 'x': 0.5, 'font':{'size': 35}}, xaxis=dict(title={'text': \"Player's Name\", 'font': {'size': 25, 'color': 'black'}, 'standoff': 10}), yaxis=dict(title={'text': 'Tackles', 'font': {'size': 25, 'color': 'black'}, 'standoff': 10}))\n",
    "\n",
    "fig.update_layout(font=dict(size=12, color=\"black\"))\n",
    "\n",
    "fig.show()"
   ]
  },
  {
   "cell_type": "code",
   "execution_count": 61,
   "metadata": {},
   "outputs": [
    {
     "data": {
      "application/vnd.plotly.v1+json": {
       "config": {
        "plotlyServerURL": "https://plot.ly"
       },
       "data": [
        {
         "alignmentgroup": "True",
         "hovertemplate": "Conference=Pac-12<br>Player's Name=%{x}<br>Tackles=%{y}<extra></extra>",
         "legendgroup": "Pac-12",
         "marker": {
          "color": "green",
          "pattern": {
           "shape": ""
          }
         },
         "name": "Pac-12",
         "offsetgroup": "Pac-12",
         "orientation": "v",
         "showlegend": true,
         "textposition": "auto",
         "type": "bar",
         "x": [
          "Ben Burr-Kirven",
          "Evan Weaver",
          "Jordan Kunaszyk"
         ],
         "xaxis": "x",
         "y": [
          176,
          156,
          147
         ],
         "yaxis": "y"
        }
       ],
       "layout": {
        "barmode": "relative",
        "legend": {
         "title": {
          "text": "Conference"
         },
         "tracegroupgap": 0
        },
        "template": {
         "data": {
          "bar": [
           {
            "error_x": {
             "color": "#2a3f5f"
            },
            "error_y": {
             "color": "#2a3f5f"
            },
            "marker": {
             "line": {
              "color": "#E5ECF6",
              "width": 0.5
             },
             "pattern": {
              "fillmode": "overlay",
              "size": 10,
              "solidity": 0.2
             }
            },
            "type": "bar"
           }
          ],
          "barpolar": [
           {
            "marker": {
             "line": {
              "color": "#E5ECF6",
              "width": 0.5
             },
             "pattern": {
              "fillmode": "overlay",
              "size": 10,
              "solidity": 0.2
             }
            },
            "type": "barpolar"
           }
          ],
          "carpet": [
           {
            "aaxis": {
             "endlinecolor": "#2a3f5f",
             "gridcolor": "white",
             "linecolor": "white",
             "minorgridcolor": "white",
             "startlinecolor": "#2a3f5f"
            },
            "baxis": {
             "endlinecolor": "#2a3f5f",
             "gridcolor": "white",
             "linecolor": "white",
             "minorgridcolor": "white",
             "startlinecolor": "#2a3f5f"
            },
            "type": "carpet"
           }
          ],
          "choropleth": [
           {
            "colorbar": {
             "outlinewidth": 0,
             "ticks": ""
            },
            "type": "choropleth"
           }
          ],
          "contour": [
           {
            "colorbar": {
             "outlinewidth": 0,
             "ticks": ""
            },
            "colorscale": [
             [
              0,
              "#0d0887"
             ],
             [
              0.1111111111111111,
              "#46039f"
             ],
             [
              0.2222222222222222,
              "#7201a8"
             ],
             [
              0.3333333333333333,
              "#9c179e"
             ],
             [
              0.4444444444444444,
              "#bd3786"
             ],
             [
              0.5555555555555556,
              "#d8576b"
             ],
             [
              0.6666666666666666,
              "#ed7953"
             ],
             [
              0.7777777777777778,
              "#fb9f3a"
             ],
             [
              0.8888888888888888,
              "#fdca26"
             ],
             [
              1,
              "#f0f921"
             ]
            ],
            "type": "contour"
           }
          ],
          "contourcarpet": [
           {
            "colorbar": {
             "outlinewidth": 0,
             "ticks": ""
            },
            "type": "contourcarpet"
           }
          ],
          "heatmap": [
           {
            "colorbar": {
             "outlinewidth": 0,
             "ticks": ""
            },
            "colorscale": [
             [
              0,
              "#0d0887"
             ],
             [
              0.1111111111111111,
              "#46039f"
             ],
             [
              0.2222222222222222,
              "#7201a8"
             ],
             [
              0.3333333333333333,
              "#9c179e"
             ],
             [
              0.4444444444444444,
              "#bd3786"
             ],
             [
              0.5555555555555556,
              "#d8576b"
             ],
             [
              0.6666666666666666,
              "#ed7953"
             ],
             [
              0.7777777777777778,
              "#fb9f3a"
             ],
             [
              0.8888888888888888,
              "#fdca26"
             ],
             [
              1,
              "#f0f921"
             ]
            ],
            "type": "heatmap"
           }
          ],
          "heatmapgl": [
           {
            "colorbar": {
             "outlinewidth": 0,
             "ticks": ""
            },
            "colorscale": [
             [
              0,
              "#0d0887"
             ],
             [
              0.1111111111111111,
              "#46039f"
             ],
             [
              0.2222222222222222,
              "#7201a8"
             ],
             [
              0.3333333333333333,
              "#9c179e"
             ],
             [
              0.4444444444444444,
              "#bd3786"
             ],
             [
              0.5555555555555556,
              "#d8576b"
             ],
             [
              0.6666666666666666,
              "#ed7953"
             ],
             [
              0.7777777777777778,
              "#fb9f3a"
             ],
             [
              0.8888888888888888,
              "#fdca26"
             ],
             [
              1,
              "#f0f921"
             ]
            ],
            "type": "heatmapgl"
           }
          ],
          "histogram": [
           {
            "marker": {
             "pattern": {
              "fillmode": "overlay",
              "size": 10,
              "solidity": 0.2
             }
            },
            "type": "histogram"
           }
          ],
          "histogram2d": [
           {
            "colorbar": {
             "outlinewidth": 0,
             "ticks": ""
            },
            "colorscale": [
             [
              0,
              "#0d0887"
             ],
             [
              0.1111111111111111,
              "#46039f"
             ],
             [
              0.2222222222222222,
              "#7201a8"
             ],
             [
              0.3333333333333333,
              "#9c179e"
             ],
             [
              0.4444444444444444,
              "#bd3786"
             ],
             [
              0.5555555555555556,
              "#d8576b"
             ],
             [
              0.6666666666666666,
              "#ed7953"
             ],
             [
              0.7777777777777778,
              "#fb9f3a"
             ],
             [
              0.8888888888888888,
              "#fdca26"
             ],
             [
              1,
              "#f0f921"
             ]
            ],
            "type": "histogram2d"
           }
          ],
          "histogram2dcontour": [
           {
            "colorbar": {
             "outlinewidth": 0,
             "ticks": ""
            },
            "colorscale": [
             [
              0,
              "#0d0887"
             ],
             [
              0.1111111111111111,
              "#46039f"
             ],
             [
              0.2222222222222222,
              "#7201a8"
             ],
             [
              0.3333333333333333,
              "#9c179e"
             ],
             [
              0.4444444444444444,
              "#bd3786"
             ],
             [
              0.5555555555555556,
              "#d8576b"
             ],
             [
              0.6666666666666666,
              "#ed7953"
             ],
             [
              0.7777777777777778,
              "#fb9f3a"
             ],
             [
              0.8888888888888888,
              "#fdca26"
             ],
             [
              1,
              "#f0f921"
             ]
            ],
            "type": "histogram2dcontour"
           }
          ],
          "mesh3d": [
           {
            "colorbar": {
             "outlinewidth": 0,
             "ticks": ""
            },
            "type": "mesh3d"
           }
          ],
          "parcoords": [
           {
            "line": {
             "colorbar": {
              "outlinewidth": 0,
              "ticks": ""
             }
            },
            "type": "parcoords"
           }
          ],
          "pie": [
           {
            "automargin": true,
            "type": "pie"
           }
          ],
          "scatter": [
           {
            "fillpattern": {
             "fillmode": "overlay",
             "size": 10,
             "solidity": 0.2
            },
            "type": "scatter"
           }
          ],
          "scatter3d": [
           {
            "line": {
             "colorbar": {
              "outlinewidth": 0,
              "ticks": ""
             }
            },
            "marker": {
             "colorbar": {
              "outlinewidth": 0,
              "ticks": ""
             }
            },
            "type": "scatter3d"
           }
          ],
          "scattercarpet": [
           {
            "marker": {
             "colorbar": {
              "outlinewidth": 0,
              "ticks": ""
             }
            },
            "type": "scattercarpet"
           }
          ],
          "scattergeo": [
           {
            "marker": {
             "colorbar": {
              "outlinewidth": 0,
              "ticks": ""
             }
            },
            "type": "scattergeo"
           }
          ],
          "scattergl": [
           {
            "marker": {
             "colorbar": {
              "outlinewidth": 0,
              "ticks": ""
             }
            },
            "type": "scattergl"
           }
          ],
          "scattermapbox": [
           {
            "marker": {
             "colorbar": {
              "outlinewidth": 0,
              "ticks": ""
             }
            },
            "type": "scattermapbox"
           }
          ],
          "scatterpolar": [
           {
            "marker": {
             "colorbar": {
              "outlinewidth": 0,
              "ticks": ""
             }
            },
            "type": "scatterpolar"
           }
          ],
          "scatterpolargl": [
           {
            "marker": {
             "colorbar": {
              "outlinewidth": 0,
              "ticks": ""
             }
            },
            "type": "scatterpolargl"
           }
          ],
          "scatterternary": [
           {
            "marker": {
             "colorbar": {
              "outlinewidth": 0,
              "ticks": ""
             }
            },
            "type": "scatterternary"
           }
          ],
          "surface": [
           {
            "colorbar": {
             "outlinewidth": 0,
             "ticks": ""
            },
            "colorscale": [
             [
              0,
              "#0d0887"
             ],
             [
              0.1111111111111111,
              "#46039f"
             ],
             [
              0.2222222222222222,
              "#7201a8"
             ],
             [
              0.3333333333333333,
              "#9c179e"
             ],
             [
              0.4444444444444444,
              "#bd3786"
             ],
             [
              0.5555555555555556,
              "#d8576b"
             ],
             [
              0.6666666666666666,
              "#ed7953"
             ],
             [
              0.7777777777777778,
              "#fb9f3a"
             ],
             [
              0.8888888888888888,
              "#fdca26"
             ],
             [
              1,
              "#f0f921"
             ]
            ],
            "type": "surface"
           }
          ],
          "table": [
           {
            "cells": {
             "fill": {
              "color": "#EBF0F8"
             },
             "line": {
              "color": "white"
             }
            },
            "header": {
             "fill": {
              "color": "#C8D4E3"
             },
             "line": {
              "color": "white"
             }
            },
            "type": "table"
           }
          ]
         },
         "layout": {
          "annotationdefaults": {
           "arrowcolor": "#2a3f5f",
           "arrowhead": 0,
           "arrowwidth": 1
          },
          "autotypenumbers": "strict",
          "coloraxis": {
           "colorbar": {
            "outlinewidth": 0,
            "ticks": ""
           }
          },
          "colorscale": {
           "diverging": [
            [
             0,
             "#8e0152"
            ],
            [
             0.1,
             "#c51b7d"
            ],
            [
             0.2,
             "#de77ae"
            ],
            [
             0.3,
             "#f1b6da"
            ],
            [
             0.4,
             "#fde0ef"
            ],
            [
             0.5,
             "#f7f7f7"
            ],
            [
             0.6,
             "#e6f5d0"
            ],
            [
             0.7,
             "#b8e186"
            ],
            [
             0.8,
             "#7fbc41"
            ],
            [
             0.9,
             "#4d9221"
            ],
            [
             1,
             "#276419"
            ]
           ],
           "sequential": [
            [
             0,
             "#0d0887"
            ],
            [
             0.1111111111111111,
             "#46039f"
            ],
            [
             0.2222222222222222,
             "#7201a8"
            ],
            [
             0.3333333333333333,
             "#9c179e"
            ],
            [
             0.4444444444444444,
             "#bd3786"
            ],
            [
             0.5555555555555556,
             "#d8576b"
            ],
            [
             0.6666666666666666,
             "#ed7953"
            ],
            [
             0.7777777777777778,
             "#fb9f3a"
            ],
            [
             0.8888888888888888,
             "#fdca26"
            ],
            [
             1,
             "#f0f921"
            ]
           ],
           "sequentialminus": [
            [
             0,
             "#0d0887"
            ],
            [
             0.1111111111111111,
             "#46039f"
            ],
            [
             0.2222222222222222,
             "#7201a8"
            ],
            [
             0.3333333333333333,
             "#9c179e"
            ],
            [
             0.4444444444444444,
             "#bd3786"
            ],
            [
             0.5555555555555556,
             "#d8576b"
            ],
            [
             0.6666666666666666,
             "#ed7953"
            ],
            [
             0.7777777777777778,
             "#fb9f3a"
            ],
            [
             0.8888888888888888,
             "#fdca26"
            ],
            [
             1,
             "#f0f921"
            ]
           ]
          },
          "colorway": [
           "#636efa",
           "#EF553B",
           "#00cc96",
           "#ab63fa",
           "#FFA15A",
           "#19d3f3",
           "#FF6692",
           "#B6E880",
           "#FF97FF",
           "#FECB52"
          ],
          "font": {
           "color": "#2a3f5f"
          },
          "geo": {
           "bgcolor": "white",
           "lakecolor": "white",
           "landcolor": "#E5ECF6",
           "showlakes": true,
           "showland": true,
           "subunitcolor": "white"
          },
          "hoverlabel": {
           "align": "left"
          },
          "hovermode": "closest",
          "mapbox": {
           "style": "light"
          },
          "paper_bgcolor": "white",
          "plot_bgcolor": "#E5ECF6",
          "polar": {
           "angularaxis": {
            "gridcolor": "white",
            "linecolor": "white",
            "ticks": ""
           },
           "bgcolor": "#E5ECF6",
           "radialaxis": {
            "gridcolor": "white",
            "linecolor": "white",
            "ticks": ""
           }
          },
          "scene": {
           "xaxis": {
            "backgroundcolor": "#E5ECF6",
            "gridcolor": "white",
            "gridwidth": 2,
            "linecolor": "white",
            "showbackground": true,
            "ticks": "",
            "zerolinecolor": "white"
           },
           "yaxis": {
            "backgroundcolor": "#E5ECF6",
            "gridcolor": "white",
            "gridwidth": 2,
            "linecolor": "white",
            "showbackground": true,
            "ticks": "",
            "zerolinecolor": "white"
           },
           "zaxis": {
            "backgroundcolor": "#E5ECF6",
            "gridcolor": "white",
            "gridwidth": 2,
            "linecolor": "white",
            "showbackground": true,
            "ticks": "",
            "zerolinecolor": "white"
           }
          },
          "shapedefaults": {
           "line": {
            "color": "#2a3f5f"
           }
          },
          "ternary": {
           "aaxis": {
            "gridcolor": "white",
            "linecolor": "white",
            "ticks": ""
           },
           "baxis": {
            "gridcolor": "white",
            "linecolor": "white",
            "ticks": ""
           },
           "bgcolor": "#E5ECF6",
           "caxis": {
            "gridcolor": "white",
            "linecolor": "white",
            "ticks": ""
           }
          },
          "title": {
           "x": 0.05
          },
          "xaxis": {
           "automargin": true,
           "gridcolor": "white",
           "linecolor": "white",
           "ticks": "",
           "title": {
            "standoff": 15
           },
           "zerolinecolor": "white",
           "zerolinewidth": 2
          },
          "yaxis": {
           "automargin": true,
           "gridcolor": "white",
           "linecolor": "white",
           "ticks": "",
           "title": {
            "standoff": 15
           },
           "zerolinecolor": "white",
           "zerolinewidth": 2
          }
         }
        },
        "title": {
         "text": "Top 3 in Tackles"
        },
        "xaxis": {
         "anchor": "y",
         "domain": [
          0,
          1
         ],
         "title": {
          "text": "Player's Name"
         }
        },
        "yaxis": {
         "anchor": "x",
         "domain": [
          0,
          1
         ],
         "title": {
          "text": "Tackles"
         }
        }
       }
      },
      "text/html": [
       "<div>                            <div id=\"d88e5799-2ef9-4e12-b0e0-24688cb3e167\" class=\"plotly-graph-div\" style=\"height:525px; width:100%;\"></div>            <script type=\"text/javascript\">                require([\"plotly\"], function(Plotly) {                    window.PLOTLYENV=window.PLOTLYENV || {};                                    if (document.getElementById(\"d88e5799-2ef9-4e12-b0e0-24688cb3e167\")) {                    Plotly.newPlot(                        \"d88e5799-2ef9-4e12-b0e0-24688cb3e167\",                        [{\"alignmentgroup\":\"True\",\"hovertemplate\":\"Conference=Pac-12\\u003cbr\\u003ePlayer's Name=%{x}\\u003cbr\\u003eTackles=%{y}\\u003cextra\\u003e\\u003c\\u002fextra\\u003e\",\"legendgroup\":\"Pac-12\",\"marker\":{\"color\":\"green\",\"pattern\":{\"shape\":\"\"}},\"name\":\"Pac-12\",\"offsetgroup\":\"Pac-12\",\"orientation\":\"v\",\"showlegend\":true,\"textposition\":\"auto\",\"x\":[\"Ben Burr-Kirven\",\"Evan Weaver\",\"Jordan Kunaszyk\"],\"xaxis\":\"x\",\"y\":[176,156,147],\"yaxis\":\"y\",\"type\":\"bar\"}],                        {\"template\":{\"data\":{\"histogram2dcontour\":[{\"type\":\"histogram2dcontour\",\"colorbar\":{\"outlinewidth\":0,\"ticks\":\"\"},\"colorscale\":[[0.0,\"#0d0887\"],[0.1111111111111111,\"#46039f\"],[0.2222222222222222,\"#7201a8\"],[0.3333333333333333,\"#9c179e\"],[0.4444444444444444,\"#bd3786\"],[0.5555555555555556,\"#d8576b\"],[0.6666666666666666,\"#ed7953\"],[0.7777777777777778,\"#fb9f3a\"],[0.8888888888888888,\"#fdca26\"],[1.0,\"#f0f921\"]]}],\"choropleth\":[{\"type\":\"choropleth\",\"colorbar\":{\"outlinewidth\":0,\"ticks\":\"\"}}],\"histogram2d\":[{\"type\":\"histogram2d\",\"colorbar\":{\"outlinewidth\":0,\"ticks\":\"\"},\"colorscale\":[[0.0,\"#0d0887\"],[0.1111111111111111,\"#46039f\"],[0.2222222222222222,\"#7201a8\"],[0.3333333333333333,\"#9c179e\"],[0.4444444444444444,\"#bd3786\"],[0.5555555555555556,\"#d8576b\"],[0.6666666666666666,\"#ed7953\"],[0.7777777777777778,\"#fb9f3a\"],[0.8888888888888888,\"#fdca26\"],[1.0,\"#f0f921\"]]}],\"heatmap\":[{\"type\":\"heatmap\",\"colorbar\":{\"outlinewidth\":0,\"ticks\":\"\"},\"colorscale\":[[0.0,\"#0d0887\"],[0.1111111111111111,\"#46039f\"],[0.2222222222222222,\"#7201a8\"],[0.3333333333333333,\"#9c179e\"],[0.4444444444444444,\"#bd3786\"],[0.5555555555555556,\"#d8576b\"],[0.6666666666666666,\"#ed7953\"],[0.7777777777777778,\"#fb9f3a\"],[0.8888888888888888,\"#fdca26\"],[1.0,\"#f0f921\"]]}],\"heatmapgl\":[{\"type\":\"heatmapgl\",\"colorbar\":{\"outlinewidth\":0,\"ticks\":\"\"},\"colorscale\":[[0.0,\"#0d0887\"],[0.1111111111111111,\"#46039f\"],[0.2222222222222222,\"#7201a8\"],[0.3333333333333333,\"#9c179e\"],[0.4444444444444444,\"#bd3786\"],[0.5555555555555556,\"#d8576b\"],[0.6666666666666666,\"#ed7953\"],[0.7777777777777778,\"#fb9f3a\"],[0.8888888888888888,\"#fdca26\"],[1.0,\"#f0f921\"]]}],\"contourcarpet\":[{\"type\":\"contourcarpet\",\"colorbar\":{\"outlinewidth\":0,\"ticks\":\"\"}}],\"contour\":[{\"type\":\"contour\",\"colorbar\":{\"outlinewidth\":0,\"ticks\":\"\"},\"colorscale\":[[0.0,\"#0d0887\"],[0.1111111111111111,\"#46039f\"],[0.2222222222222222,\"#7201a8\"],[0.3333333333333333,\"#9c179e\"],[0.4444444444444444,\"#bd3786\"],[0.5555555555555556,\"#d8576b\"],[0.6666666666666666,\"#ed7953\"],[0.7777777777777778,\"#fb9f3a\"],[0.8888888888888888,\"#fdca26\"],[1.0,\"#f0f921\"]]}],\"surface\":[{\"type\":\"surface\",\"colorbar\":{\"outlinewidth\":0,\"ticks\":\"\"},\"colorscale\":[[0.0,\"#0d0887\"],[0.1111111111111111,\"#46039f\"],[0.2222222222222222,\"#7201a8\"],[0.3333333333333333,\"#9c179e\"],[0.4444444444444444,\"#bd3786\"],[0.5555555555555556,\"#d8576b\"],[0.6666666666666666,\"#ed7953\"],[0.7777777777777778,\"#fb9f3a\"],[0.8888888888888888,\"#fdca26\"],[1.0,\"#f0f921\"]]}],\"mesh3d\":[{\"type\":\"mesh3d\",\"colorbar\":{\"outlinewidth\":0,\"ticks\":\"\"}}],\"scatter\":[{\"fillpattern\":{\"fillmode\":\"overlay\",\"size\":10,\"solidity\":0.2},\"type\":\"scatter\"}],\"parcoords\":[{\"type\":\"parcoords\",\"line\":{\"colorbar\":{\"outlinewidth\":0,\"ticks\":\"\"}}}],\"scatterpolargl\":[{\"type\":\"scatterpolargl\",\"marker\":{\"colorbar\":{\"outlinewidth\":0,\"ticks\":\"\"}}}],\"bar\":[{\"error_x\":{\"color\":\"#2a3f5f\"},\"error_y\":{\"color\":\"#2a3f5f\"},\"marker\":{\"line\":{\"color\":\"#E5ECF6\",\"width\":0.5},\"pattern\":{\"fillmode\":\"overlay\",\"size\":10,\"solidity\":0.2}},\"type\":\"bar\"}],\"scattergeo\":[{\"type\":\"scattergeo\",\"marker\":{\"colorbar\":{\"outlinewidth\":0,\"ticks\":\"\"}}}],\"scatterpolar\":[{\"type\":\"scatterpolar\",\"marker\":{\"colorbar\":{\"outlinewidth\":0,\"ticks\":\"\"}}}],\"histogram\":[{\"marker\":{\"pattern\":{\"fillmode\":\"overlay\",\"size\":10,\"solidity\":0.2}},\"type\":\"histogram\"}],\"scattergl\":[{\"type\":\"scattergl\",\"marker\":{\"colorbar\":{\"outlinewidth\":0,\"ticks\":\"\"}}}],\"scatter3d\":[{\"type\":\"scatter3d\",\"line\":{\"colorbar\":{\"outlinewidth\":0,\"ticks\":\"\"}},\"marker\":{\"colorbar\":{\"outlinewidth\":0,\"ticks\":\"\"}}}],\"scattermapbox\":[{\"type\":\"scattermapbox\",\"marker\":{\"colorbar\":{\"outlinewidth\":0,\"ticks\":\"\"}}}],\"scatterternary\":[{\"type\":\"scatterternary\",\"marker\":{\"colorbar\":{\"outlinewidth\":0,\"ticks\":\"\"}}}],\"scattercarpet\":[{\"type\":\"scattercarpet\",\"marker\":{\"colorbar\":{\"outlinewidth\":0,\"ticks\":\"\"}}}],\"carpet\":[{\"aaxis\":{\"endlinecolor\":\"#2a3f5f\",\"gridcolor\":\"white\",\"linecolor\":\"white\",\"minorgridcolor\":\"white\",\"startlinecolor\":\"#2a3f5f\"},\"baxis\":{\"endlinecolor\":\"#2a3f5f\",\"gridcolor\":\"white\",\"linecolor\":\"white\",\"minorgridcolor\":\"white\",\"startlinecolor\":\"#2a3f5f\"},\"type\":\"carpet\"}],\"table\":[{\"cells\":{\"fill\":{\"color\":\"#EBF0F8\"},\"line\":{\"color\":\"white\"}},\"header\":{\"fill\":{\"color\":\"#C8D4E3\"},\"line\":{\"color\":\"white\"}},\"type\":\"table\"}],\"barpolar\":[{\"marker\":{\"line\":{\"color\":\"#E5ECF6\",\"width\":0.5},\"pattern\":{\"fillmode\":\"overlay\",\"size\":10,\"solidity\":0.2}},\"type\":\"barpolar\"}],\"pie\":[{\"automargin\":true,\"type\":\"pie\"}]},\"layout\":{\"autotypenumbers\":\"strict\",\"colorway\":[\"#636efa\",\"#EF553B\",\"#00cc96\",\"#ab63fa\",\"#FFA15A\",\"#19d3f3\",\"#FF6692\",\"#B6E880\",\"#FF97FF\",\"#FECB52\"],\"font\":{\"color\":\"#2a3f5f\"},\"hovermode\":\"closest\",\"hoverlabel\":{\"align\":\"left\"},\"paper_bgcolor\":\"white\",\"plot_bgcolor\":\"#E5ECF6\",\"polar\":{\"bgcolor\":\"#E5ECF6\",\"angularaxis\":{\"gridcolor\":\"white\",\"linecolor\":\"white\",\"ticks\":\"\"},\"radialaxis\":{\"gridcolor\":\"white\",\"linecolor\":\"white\",\"ticks\":\"\"}},\"ternary\":{\"bgcolor\":\"#E5ECF6\",\"aaxis\":{\"gridcolor\":\"white\",\"linecolor\":\"white\",\"ticks\":\"\"},\"baxis\":{\"gridcolor\":\"white\",\"linecolor\":\"white\",\"ticks\":\"\"},\"caxis\":{\"gridcolor\":\"white\",\"linecolor\":\"white\",\"ticks\":\"\"}},\"coloraxis\":{\"colorbar\":{\"outlinewidth\":0,\"ticks\":\"\"}},\"colorscale\":{\"sequential\":[[0.0,\"#0d0887\"],[0.1111111111111111,\"#46039f\"],[0.2222222222222222,\"#7201a8\"],[0.3333333333333333,\"#9c179e\"],[0.4444444444444444,\"#bd3786\"],[0.5555555555555556,\"#d8576b\"],[0.6666666666666666,\"#ed7953\"],[0.7777777777777778,\"#fb9f3a\"],[0.8888888888888888,\"#fdca26\"],[1.0,\"#f0f921\"]],\"sequentialminus\":[[0.0,\"#0d0887\"],[0.1111111111111111,\"#46039f\"],[0.2222222222222222,\"#7201a8\"],[0.3333333333333333,\"#9c179e\"],[0.4444444444444444,\"#bd3786\"],[0.5555555555555556,\"#d8576b\"],[0.6666666666666666,\"#ed7953\"],[0.7777777777777778,\"#fb9f3a\"],[0.8888888888888888,\"#fdca26\"],[1.0,\"#f0f921\"]],\"diverging\":[[0,\"#8e0152\"],[0.1,\"#c51b7d\"],[0.2,\"#de77ae\"],[0.3,\"#f1b6da\"],[0.4,\"#fde0ef\"],[0.5,\"#f7f7f7\"],[0.6,\"#e6f5d0\"],[0.7,\"#b8e186\"],[0.8,\"#7fbc41\"],[0.9,\"#4d9221\"],[1,\"#276419\"]]},\"xaxis\":{\"gridcolor\":\"white\",\"linecolor\":\"white\",\"ticks\":\"\",\"title\":{\"standoff\":15},\"zerolinecolor\":\"white\",\"automargin\":true,\"zerolinewidth\":2},\"yaxis\":{\"gridcolor\":\"white\",\"linecolor\":\"white\",\"ticks\":\"\",\"title\":{\"standoff\":15},\"zerolinecolor\":\"white\",\"automargin\":true,\"zerolinewidth\":2},\"scene\":{\"xaxis\":{\"backgroundcolor\":\"#E5ECF6\",\"gridcolor\":\"white\",\"linecolor\":\"white\",\"showbackground\":true,\"ticks\":\"\",\"zerolinecolor\":\"white\",\"gridwidth\":2},\"yaxis\":{\"backgroundcolor\":\"#E5ECF6\",\"gridcolor\":\"white\",\"linecolor\":\"white\",\"showbackground\":true,\"ticks\":\"\",\"zerolinecolor\":\"white\",\"gridwidth\":2},\"zaxis\":{\"backgroundcolor\":\"#E5ECF6\",\"gridcolor\":\"white\",\"linecolor\":\"white\",\"showbackground\":true,\"ticks\":\"\",\"zerolinecolor\":\"white\",\"gridwidth\":2}},\"shapedefaults\":{\"line\":{\"color\":\"#2a3f5f\"}},\"annotationdefaults\":{\"arrowcolor\":\"#2a3f5f\",\"arrowhead\":0,\"arrowwidth\":1},\"geo\":{\"bgcolor\":\"white\",\"landcolor\":\"#E5ECF6\",\"subunitcolor\":\"white\",\"showland\":true,\"showlakes\":true,\"lakecolor\":\"white\"},\"title\":{\"x\":0.05},\"mapbox\":{\"style\":\"light\"}}},\"xaxis\":{\"anchor\":\"y\",\"domain\":[0.0,1.0],\"title\":{\"text\":\"Player's Name\"}},\"yaxis\":{\"anchor\":\"x\",\"domain\":[0.0,1.0],\"title\":{\"text\":\"Tackles\"}},\"legend\":{\"title\":{\"text\":\"Conference\"},\"tracegroupgap\":0},\"title\":{\"text\":\"Top 3 in Tackles\"},\"barmode\":\"relative\"},                        {\"responsive\": true}                    ).then(function(){\n",
       "                            \n",
       "var gd = document.getElementById('d88e5799-2ef9-4e12-b0e0-24688cb3e167');\n",
       "var x = new MutationObserver(function (mutations, observer) {{\n",
       "        var display = window.getComputedStyle(gd).display;\n",
       "        if (!display || display === 'none') {{\n",
       "            console.log([gd, 'removed!']);\n",
       "            Plotly.purge(gd);\n",
       "            observer.disconnect();\n",
       "        }}\n",
       "}});\n",
       "\n",
       "// Listen for the removal of the full notebook cells\n",
       "var notebookContainer = gd.closest('#notebook-container');\n",
       "if (notebookContainer) {{\n",
       "    x.observe(notebookContainer, {childList: true});\n",
       "}}\n",
       "\n",
       "// Listen for the clearing of the current output cell\n",
       "var outputEl = gd.closest('.output');\n",
       "if (outputEl) {{\n",
       "    x.observe(outputEl, {childList: true});\n",
       "}}\n",
       "\n",
       "                        })                };                });            </script>        </div>"
      ]
     },
     "metadata": {},
     "output_type": "display_data"
    }
   ],
   "source": [
    "px.bar(x=top_3_tackles['Player'], y=top_3_tackles['Tot'], color=top_3_tackles['Conference'], labels={'x':'Player\\'s Name', 'y':'Tackles', 'color':'Conference'}, title='Top 3 in Tackles', color_discrete_sequence=['green', 'orange'])"
   ]
  }
 ],
 "metadata": {
  "kernelspec": {
   "display_name": "Python 3",
   "language": "python",
   "name": "python3"
  },
  "language_info": {
   "codemirror_mode": {
    "name": "ipython",
    "version": 3
   },
   "file_extension": ".py",
   "mimetype": "text/x-python",
   "name": "python",
   "nbconvert_exporter": "python",
   "pygments_lexer": "ipython3",
   "version": "3.9.4"
  },
  "orig_nbformat": 4
 },
 "nbformat": 4,
 "nbformat_minor": 2
}
